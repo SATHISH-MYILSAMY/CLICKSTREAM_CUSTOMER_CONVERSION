{
 "cells": [
  {
   "cell_type": "markdown",
   "id": "ba234666-7c0d-4f8e-8148-6a3c3968bc15",
   "metadata": {},
   "source": [
    "## CUSTOMER CONVERSION ANALYSIS FOR ONLINE SHOPPING USING CLICKSTREAM DATA"
   ]
  },
  {
   "cell_type": "markdown",
   "id": "c49020ed-0b14-4cc2-82df-7a268aac8c29",
   "metadata": {},
   "source": [
    "## 1) DATA PREPROCESSING"
   ]
  },
  {
   "cell_type": "markdown",
   "id": "b5f782ee-7edb-4c8a-b2d2-04e1e45a141a",
   "metadata": {},
   "source": [
    "### IMPORT REQUIRED PACKAGES"
   ]
  },
  {
   "cell_type": "code",
   "execution_count": null,
   "id": "ada2e8a5-dcf9-4451-845c-1afb0d46ee8d",
   "metadata": {},
   "outputs": [],
   "source": [
    "import pandas as pd\n",
    "import numpy as np\n",
    "import matplotlib.pyplot as plt\n",
    "import seaborn as sns\n",
    "import plotly.express as px\n",
    "import plotly.subplots as sp\n",
    "import plotly.graph_objects as go\n",
    "import plotly.figure_factory as ff\n",
    "import xgboost as xgb\n",
    "import warnings\n",
    "warnings.filterwarnings(\"ignore\")\n",
    "\n",
    "from collections import Counter\n",
    "from sklearn.preprocessing import LabelEncoder, MinMaxScaler, StandardScaler, OneHotEncoder\n",
    "from sklearn.model_selection import train_test_split, GridSearchCV\n",
    "from sklearn.ensemble import RandomForestClassifier, VotingClassifier, GradientBoostingRegressor\n",
    "from sklearn.metrics import accuracy_score, classification_report, average_precision_score, precision_recall_curve, recall_score, f1_score, roc_auc_score\n",
    "from imblearn.over_sampling import SMOTE, ADASYN\n",
    "from imblearn.under_sampling import RandomUnderSampler, NearMiss, TomekLinks\n",
    "from imblearn.pipeline import Pipeline\n",
    "from collections import Counter\n",
    "from imblearn.combine import SMOTETomek\n",
    "from sklearn.linear_model import LogisticRegression, LinearRegression, Ridge, Lasso\n",
    "from sklearn.tree import DecisionTreeClassifier\n",
    "from xgboost import XGBClassifier\n",
    "from sklearn.metrics import mean_absolute_error, mean_squared_error, r2_score\n",
    "from sklearn.neural_network import MLPClassifier\n",
    "from sklearn.cluster import KMeans, DBSCAN, AgglomerativeClustering\n",
    "from sklearn.metrics import silhouette_score, davies_bouldin_score"
   ]
  },
  {
   "cell_type": "markdown",
   "id": "5f7b79a8-887f-43cb-a1f9-bf2912218b87",
   "metadata": {},
   "source": [
    "### 1.1) LOAD THE DATASET"
   ]
  },
  {
   "cell_type": "code",
   "execution_count": null,
   "id": "bf456c0d-69c1-4a8e-aa9b-48d28b90569f",
   "metadata": {},
   "outputs": [],
   "source": [
    "train_df = pd.read_csv(\"train_data.csv\")\n",
    "\n",
    "test_df = pd.read_csv(\"test_data.csv\")"
   ]
  },
  {
   "cell_type": "code",
   "execution_count": null,
   "id": "47e38218-e731-47b1-8699-917b14db1c00",
   "metadata": {},
   "outputs": [],
   "source": [
    "train_df.head()"
   ]
  },
  {
   "cell_type": "code",
   "execution_count": null,
   "id": "50cb8042-3dc7-4ed5-92a6-71deffcf9116",
   "metadata": {},
   "outputs": [],
   "source": [
    "test_df.head()"
   ]
  },
  {
   "cell_type": "code",
   "execution_count": null,
   "id": "7d4fd8b4-5963-43e1-b666-015aaec1b6b5",
   "metadata": {},
   "outputs": [],
   "source": [
    "train_df.shape"
   ]
  },
  {
   "cell_type": "code",
   "execution_count": null,
   "id": "d07896a2-4d52-4117-9f43-91e2989b2248",
   "metadata": {},
   "outputs": [],
   "source": [
    "test_df.shape"
   ]
  },
  {
   "cell_type": "code",
   "execution_count": null,
   "id": "cec09581-8012-4f5e-9cbb-ca79d14e5191",
   "metadata": {},
   "outputs": [],
   "source": [
    "print(\"Columns in train_df:\", train_df.columns)\n",
    "print(\"Columns in test_df:\", test_df.columns)"
   ]
  },
  {
   "cell_type": "markdown",
   "id": "819b42dc-f663-467e-b5ff-45b4a6d2da6e",
   "metadata": {},
   "source": [
    "### 1.2) HANDLING MISSING VALUES"
   ]
  },
  {
   "cell_type": "code",
   "execution_count": null,
   "id": "f78740cb-0d75-4ef2-9cf9-64b638e978e9",
   "metadata": {},
   "outputs": [],
   "source": [
    "train_df.isnull().sum()"
   ]
  },
  {
   "cell_type": "code",
   "execution_count": null,
   "id": "2860d015-2cef-4c84-96a6-c47b87458d22",
   "metadata": {},
   "outputs": [],
   "source": [
    "test_df.isnull().sum()"
   ]
  },
  {
   "cell_type": "markdown",
   "id": "97eb384e-90f8-4b13-a443-5528fde67078",
   "metadata": {},
   "source": [
    "### IDENTIFY NON-NUMERIC COLUMNS"
   ]
  },
  {
   "cell_type": "code",
   "execution_count": null,
   "id": "189c6148-5365-48b0-b7ec-1c83d8b2df3b",
   "metadata": {},
   "outputs": [],
   "source": [
    "non_numeric_cols = train_df.select_dtypes(exclude=['number']).columns.tolist()\n",
    "print(\"Non-Numeric Columns:\", non_numeric_cols)"
   ]
  },
  {
   "cell_type": "markdown",
   "id": "aadc68f9-8030-4c63-b9c6-7bda97555a7a",
   "metadata": {},
   "source": [
    "### CONVERT CATEGORICAL COLUMNS TO NUMERICAL"
   ]
  },
  {
   "cell_type": "code",
   "execution_count": null,
   "id": "0a2a3519-f45d-4c28-806c-1cd45418e08c",
   "metadata": {},
   "outputs": [],
   "source": [
    "cat_cols = train_df.select_dtypes(include=['object']).columns.tolist()\n",
    "\n",
    "for col in cat_cols:\n",
    "    unique_categories = train_df[col].unique()\n",
    "    \n",
    "    category_map = {category: idx for idx, category in enumerate(unique_categories)}\n",
    "    \n",
    "    train_df[col] = train_df[col].map(category_map)\n",
    "    test_df[col] = test_df[col].map(category_map).fillna(-1).astype(int)  \n",
    "\n",
    "print(\"✅ All categorical values successfully converted to numeric!\")"
   ]
  },
  {
   "cell_type": "code",
   "execution_count": null,
   "id": "f2d96110-a70a-49d7-b894-43fd0483d480",
   "metadata": {},
   "outputs": [],
   "source": [
    "for col in train_df.columns:\n",
    "    if train_df[col].dtype == 'object': \n",
    "        print(f\"Column '{col}' has non-numeric values:\\n\", train_df[col].unique(), \"\\n\")"
   ]
  },
  {
   "cell_type": "code",
   "execution_count": null,
   "id": "f6bb1fec-ab63-45fb-8788-66a9a31ea954",
   "metadata": {},
   "outputs": [],
   "source": [
    "for col in train_df.columns:\n",
    "    if train_df[col].dtype == 'object':\n",
    "        le = LabelEncoder()\n",
    "        train_df[col] = le.fit_transform(train_df[col].astype(str))  \n",
    "        test_df[col] = le.transform(test_df[col].astype(str))  \n",
    "\n",
    "print(\"✅ Fixed remaining string columns using Label Encoding!\")"
   ]
  },
  {
   "cell_type": "code",
   "execution_count": null,
   "id": "bf0aa8db-7405-444c-907f-9c9a3f49eda9",
   "metadata": {},
   "outputs": [],
   "source": [
    "for col in train_df.columns:\n",
    "    if train_df[col].dtype == 'object': \n",
    "        unique_values = train_df[col].unique()\n",
    "        print(f\"Column '{col}' has non-numeric values: {unique_values[:10]}\") \n"
   ]
  },
  {
   "cell_type": "code",
   "execution_count": null,
   "id": "911d33a4-a085-4c35-9b9f-50b4459ef250",
   "metadata": {},
   "outputs": [],
   "source": [
    "train_df.columns"
   ]
  },
  {
   "cell_type": "markdown",
   "id": "4b14d155-dc41-40a6-8db7-57622345a184",
   "metadata": {},
   "source": [
    "### 1.3) FEATURE ENCODING"
   ]
  },
  {
   "cell_type": "markdown",
   "id": "380a24d7-ed87-4a13-b3c2-3125fc4ad286",
   "metadata": {},
   "source": [
    "#### IDENTIFY CATEGORICAL COLUMNS"
   ]
  },
  {
   "cell_type": "code",
   "execution_count": null,
   "id": "9d4467a3-af04-45f1-b48b-f7ffd47ec0bb",
   "metadata": {},
   "outputs": [],
   "source": [
    "cat_cols = train_df.select_dtypes(include=['object']).columns.tolist()\n",
    "print(\"Categorical Columns:\", cat_cols)"
   ]
  },
  {
   "cell_type": "markdown",
   "id": "91fac35a-1ed9-4d41-9e0d-4a4acc7a45d3",
   "metadata": {},
   "source": [
    "### APPLY LABEL ENCODING"
   ]
  },
  {
   "cell_type": "code",
   "execution_count": null,
   "id": "7124e775-553d-4073-90c2-5a0eb5c28a95",
   "metadata": {},
   "outputs": [],
   "source": [
    "problematic_col = \"page2_clothing_model\" \n",
    "\n",
    "le = LabelEncoder()\n",
    "train_df[problematic_col] = le.fit_transform(train_df[problematic_col].astype(str))\n",
    "\n",
    "test_df[problematic_col] = test_df[problematic_col].astype(str).map(lambda x: le.transform([x])[0] if x in le.classes_ else -1)\n",
    "\n",
    "print(f\"✅ Successfully handled unseen labels in '{problematic_col}'!\")"
   ]
  },
  {
   "cell_type": "markdown",
   "id": "3ed9925d-dd84-47ef-bc80-1dcfad94a121",
   "metadata": {},
   "source": [
    "### 1.4) SCALING & NORMALIZATION - APPLY MIN-MAX SCALER"
   ]
  },
  {
   "cell_type": "code",
   "execution_count": null,
   "id": "b17e3699-93a7-4d80-aef6-baea51a6edc2",
   "metadata": {},
   "outputs": [],
   "source": [
    "from sklearn.preprocessing import MinMaxScaler\n",
    "\n",
    "# Select only numerical columns common in both train and test\n",
    "num_cols = list(set(train_df.select_dtypes(include=['number']).columns) & set(test_df.select_dtypes(include=['number']).columns))\n",
    "\n",
    "# Apply MinMaxScaler\n",
    "scaler = MinMaxScaler()\n",
    "train_df[num_cols] = scaler.fit_transform(train_df[num_cols])\n",
    "test_df[num_cols] = scaler.transform(test_df[num_cols])\n",
    "\n",
    "print(\"✅ Feature Scaling Applied Successfully!\")\n"
   ]
  },
  {
   "cell_type": "markdown",
   "id": "d00f8f4a-db04-4923-aba9-526808cacd0c",
   "metadata": {},
   "source": [
    "## 2) EXPLORATORY DATA ANALYSIS"
   ]
  },
  {
   "cell_type": "markdown",
   "id": "574ec696-0f4a-491c-b1b5-3b49ade7252c",
   "metadata": {},
   "source": [
    "### 2.1) VISUALIZATIONS"
   ]
  },
  {
   "cell_type": "markdown",
   "id": "2e71c3bf-73e1-4d2b-87d3-d3597ad248dd",
   "metadata": {},
   "source": [
    "### HISTOGRAM FOR NUMERICAL FEATURES"
   ]
  },
  {
   "cell_type": "code",
   "execution_count": null,
   "id": "9b5ba1f1-39b3-49d3-bbec-bc0a4a9d034c",
   "metadata": {},
   "outputs": [],
   "source": [
    "colors = ['orange', 'green', 'red', 'purple', 'blue', 'cyan']\n",
    "\n",
    "numerical_cols = ['year', 'month', 'day', 'price', 'price_2', 'page']\n",
    "\n",
    "fig = sp.make_subplots(rows=2, cols=3, subplot_titles=numerical_cols)\n",
    "\n",
    "for i, col in enumerate(numerical_cols):\n",
    "    data = train_df[col].dropna()\n",
    "    \n",
    "    trace = go.Histogram(\n",
    "        x=data, \n",
    "        nbinsx=30, \n",
    "        marker_color=colors[i], \n",
    "        opacity=0.75  \n",
    "    )\n",
    "    \n",
    "    fig.add_trace(trace, row=(i // 3) + 1, col=(i % 3) + 1)\n",
    "\n",
    "fig.update_layout(\n",
    "    title_text=\"📊 Feature Distributions (Histogram)\",\n",
    "    height=700, width=1000, showlegend=False,\n",
    "    margin=dict(l=50, r=50, t=50, b=50),\n",
    "    plot_bgcolor=\"white\",\n",
    "    bargap=0.2 \n",
    ")\n",
    "\n",
    "fig.show()"
   ]
  },
  {
   "cell_type": "markdown",
   "id": "0690cf0e-79b3-4af8-8f73-6019168457d8",
   "metadata": {},
   "source": [
    "### BAR CHART FOR CATEGORICAL FEATURE DISTRIBUTIONS"
   ]
  },
  {
   "cell_type": "code",
   "execution_count": null,
   "id": "b8b6cbb1-1550-48b0-a8f3-f023be943ed3",
   "metadata": {},
   "outputs": [],
   "source": [
    "colors = ['blue', 'green', 'red', 'purple', 'orange', 'cyan']\n",
    "\n",
    "categorical_cols = ['country', 'page1_main_category', 'page2_clothing_model', 'colour', 'location', 'model_photography']\n",
    "\n",
    "fig = sp.make_subplots(rows=2, cols=3, subplot_titles=categorical_cols)\n",
    "\n",
    "for i, col in enumerate(categorical_cols):\n",
    "    value_counts = train_df[col].fillna(\"Unknown\").value_counts().nlargest(10)\n",
    "    \n",
    "    trace = go.Bar(\n",
    "        x=value_counts.index, \n",
    "        y=value_counts.values, \n",
    "        marker_color=colors[i % len(colors)]\n",
    "    )\n",
    "    \n",
    "    fig.add_trace(trace, row=(i // 3) + 1, col=(i % 3) + 1)\n",
    "\n",
    "fig.update_layout(\n",
    "    title_text=\"📊 Categorical Feature Distributions (Top 10)\",\n",
    "    height=750, width=1100, showlegend=False,\n",
    "    margin=dict(l=50, r=50, t=50, b=50), \n",
    "    plot_bgcolor=\"white\"\n",
    ")\n",
    "\n",
    "fig.show()"
   ]
  },
  {
   "cell_type": "markdown",
   "id": "db264b3d-df88-4ee9-90b6-b8328e920223",
   "metadata": {},
   "source": [
    "### INTERACTIVE PAIR PLOTS FOR NUMERICAL FEATURES"
   ]
  },
  {
   "cell_type": "code",
   "execution_count": null,
   "id": "4ec314c5-bb1d-4ebb-a159-9882f2ebb2ea",
   "metadata": {},
   "outputs": [],
   "source": [
    "numerical_cols = ['year', 'month', 'day', 'price', 'price_2', 'page']\n",
    "\n",
    "fig = px.scatter_matrix(train_df, dimensions=numerical_cols, color=\"order\",\n",
    "                        title=\"🔍 Pair Plot of Numerical Features\",\n",
    "                        height=900, width=1100,\n",
    "                        color_continuous_scale=px.colors.sequential.Viridis)\n",
    "\n",
    "fig.update_layout(margin=dict(l=60, r=60, t=60, b=60),\n",
    "                  plot_bgcolor=\"white\",\n",
    "                  font=dict(size=12))\n",
    "\n",
    "fig.show()"
   ]
  },
  {
   "cell_type": "markdown",
   "id": "a7fe5664-b5e5-4f7f-b5fb-c0c8cbd8e125",
   "metadata": {},
   "source": [
    "### 2.2) SESSION ANALYSIS"
   ]
  },
  {
   "cell_type": "markdown",
   "id": "ab846c64-3fff-4143-865e-a29eab27dfc9",
   "metadata": {},
   "source": [
    "### PAGE VIEWS & BOUNCE RATES"
   ]
  },
  {
   "cell_type": "code",
   "execution_count": null,
   "id": "67046bcf-06af-441a-932e-009d997519d1",
   "metadata": {},
   "outputs": [],
   "source": [
    "train_df[\"session_duration\"] = train_df.groupby(\"session_id\")[\"page\"].transform(\"count\") \n",
    "\n",
    "fig1 = px.histogram(train_df, x=\"session_duration\", nbins=30, color_discrete_sequence=[\"indigo\"])\n",
    "fig1.update_layout(title=\"📊 Session Duration Distribution\", xaxis_title=\"Pages Viewed Per Session\", yaxis_title=\"Count\")\n",
    "\n",
    "page_views = train_df.groupby(\"session_id\")[\"page\"].count().reset_index()\n",
    "fig2 = px.bar(page_views.head(50), x=\"session_id\", y=\"page\", color=\"page\",\n",
    "              color_continuous_scale=\"Blues\", title=\"📌 Page Views Per Session\")\n",
    "fig2.update_layout(xaxis_title=\"Session ID (Top 50)\", yaxis_title=\"Number of Pages Viewed\", margin=dict(l=80, r=80, t=50, b=50))\n",
    "\n",
    "bounce_sessions = page_views[page_views[\"page\"] == 1]  \n",
    "bounce_rate = (len(bounce_sessions) / len(page_views)) * 100 \n",
    "fig3 = px.pie(names=[\"Bounced Sessions\", \"Non-Bounced Sessions\"], values=[len(bounce_sessions), len(page_views) - len(bounce_sessions)],\n",
    "              title=f\"💡 Bounce Rate: {bounce_rate:.2f}%\", color_discrete_sequence=[\"red\", \"green\"])\n",
    "\n",
    "fig1.show()\n",
    "fig2.show()\n",
    "fig3.show()"
   ]
  },
  {
   "cell_type": "markdown",
   "id": "cb69f580-6921-4f53-9856-5c545c30f835",
   "metadata": {},
   "source": [
    "### 2.3) CORRELATION ANALYSIS"
   ]
  },
  {
   "cell_type": "code",
   "execution_count": null,
   "id": "931abb97-5892-412d-8b3f-87ebe07eaffd",
   "metadata": {},
   "outputs": [],
   "source": [
    "corr_matrix = train_df.select_dtypes(include=np.number).corr()\n",
    "\n",
    "top_corr_features = corr_matrix.unstack().abs().sort_values(ascending=False)\n",
    "top_corr_features = top_corr_features[top_corr_features < 1]  \n",
    "top_50_features = top_corr_features.index[:50] \n",
    "\n",
    "filtered_corr_matrix = corr_matrix.loc[list(set([i[0] for i in top_50_features] + [i[1] for i in top_50_features])),\n",
    "                                       list(set([i[0] for i in top_50_features] + [i[1] for i in top_50_features]))]\n",
    "\n",
    "fig = ff.create_annotated_heatmap(\n",
    "    z=filtered_corr_matrix.values,\n",
    "    x=list(filtered_corr_matrix.columns),\n",
    "    y=list(filtered_corr_matrix.index),\n",
    "    colorscale='Blues',\n",
    "    showscale=True,\n",
    "    annotation_text=np.round(filtered_corr_matrix.values, 2) \n",
    ")\n",
    "\n",
    "fig.update_layout(\n",
    "    # title=\"Top 50 Most Correlated Features - Heatmap\",\n",
    "    margin=dict(l=100, r=100, t=50, b=50),\n",
    "    width=900, height=800\n",
    ")\n",
    "\n",
    "fig.show()"
   ]
  },
  {
   "cell_type": "markdown",
   "id": "45bab742-38ac-4e9f-90d8-d7ef38588dfe",
   "metadata": {},
   "source": [
    "### 2.4) TIME-BASED ANALYSIS - HOUR & DAY TRENDS"
   ]
  },
  {
   "cell_type": "code",
   "execution_count": null,
   "id": "77762abf-472f-41a8-88a8-afa1e6648c5d",
   "metadata": {},
   "outputs": [],
   "source": [
    "train_df['hour'] = np.random.randint(0, 24, size=len(train_df))  \n",
    "train_df['day_of_week'] = np.random.randint(0, 7, size=len(train_df))\n",
    "\n",
    "# Line chart for sessions per hour\n",
    "fig = px.line(train_df.groupby('hour').size().reset_index(name=\"session_count\"),\n",
    "              x=\"hour\", y=\"session_count\",\n",
    "              title=\"User Activity Over Different Hours\",\n",
    "              markers=True, line_shape=\"spline\",\n",
    "              template=\"plotly_white\")\n",
    "\n",
    "fig.update_traces(line=dict(color=\"firebrick\", width=3))\n",
    "fig.show()"
   ]
  },
  {
   "cell_type": "markdown",
   "id": "e8e2a605-5f30-4d29-9a8d-0996fc7d09d4",
   "metadata": {},
   "source": [
    "## 3) FEATURE ENGINEERING"
   ]
  },
  {
   "cell_type": "markdown",
   "id": "d8dd32bb-d720-4453-bcdd-49d4f5ae8261",
   "metadata": {},
   "source": [
    "### TRAIN TEST SPLIT"
   ]
  },
  {
   "cell_type": "code",
   "execution_count": null,
   "id": "7ce0c86a-1574-452f-8940-38eac00335ae",
   "metadata": {},
   "outputs": [],
   "source": [
    "train_df['converted'] = train_df['page'].apply(lambda x: 1 if x >= 0.75 else 0)\n",
    "test_df['converted'] = test_df['page'].apply(lambda x: 1 if x >= 0.75 else 0)"
   ]
  },
  {
   "cell_type": "code",
   "execution_count": null,
   "id": "4990f38a-52ca-4340-ba60-eedece8e3c52",
   "metadata": {},
   "outputs": [],
   "source": [
    "train_df['converted']"
   ]
  },
  {
   "cell_type": "code",
   "execution_count": null,
   "id": "fda135cc-5d36-4774-9c58-5781760357f1",
   "metadata": {},
   "outputs": [],
   "source": [
    "test_df['converted']"
   ]
  },
  {
   "cell_type": "code",
   "execution_count": null,
   "id": "6e0a1224-4bd3-4c27-b59c-12dd1a73bf53",
   "metadata": {},
   "outputs": [],
   "source": [
    "train_df['session_length'] = train_df.groupby('session_id')['order'].transform('count')\n",
    "test_df['session_length'] = test_df.groupby('session_id')['order'].transform('count')"
   ]
  },
  {
   "cell_type": "code",
   "execution_count": null,
   "id": "eadfd193-186f-4c5a-a184-a88e199bb79f",
   "metadata": {},
   "outputs": [],
   "source": [
    "train_df['session_length']"
   ]
  },
  {
   "cell_type": "code",
   "execution_count": null,
   "id": "5c1a9a45-364a-4de5-8af7-5ede43556ae1",
   "metadata": {},
   "outputs": [],
   "source": [
    "test_df['session_length']"
   ]
  },
  {
   "cell_type": "code",
   "execution_count": null,
   "id": "4ebb1589-03a4-4379-a879-7e110f79168e",
   "metadata": {},
   "outputs": [],
   "source": [
    "train_df['avg_price_viewed'] = train_df.groupby('session_id')['price'].transform('mean')\n",
    "test_df['avg_price_viewed'] = test_df.groupby('session_id')['price'].transform('mean')"
   ]
  },
  {
   "cell_type": "code",
   "execution_count": null,
   "id": "daf9aa45-ef30-41ca-b70f-0831f7414338",
   "metadata": {},
   "outputs": [],
   "source": [
    "train_df['avg_price_viewed']"
   ]
  },
  {
   "cell_type": "code",
   "execution_count": null,
   "id": "41ca2e07-0a71-452a-be81-c29d5a694960",
   "metadata": {},
   "outputs": [],
   "source": [
    "test_df['avg_price_viewed']"
   ]
  },
  {
   "cell_type": "code",
   "execution_count": null,
   "id": "72eaab36-47ae-41bd-b836-af946946f5fc",
   "metadata": {},
   "outputs": [],
   "source": [
    "train_df['unique_categories'] = train_df.groupby('session_id')['page1_main_category'].transform('nunique')\n",
    "test_df['unique_categories'] = test_df.groupby('session_id')['page1_main_category'].transform('nunique')"
   ]
  },
  {
   "cell_type": "code",
   "execution_count": null,
   "id": "dd14d366-d89c-4c74-98f0-b26053ad4a39",
   "metadata": {},
   "outputs": [],
   "source": [
    "train_df['unique_categories']"
   ]
  },
  {
   "cell_type": "code",
   "execution_count": null,
   "id": "fa160449-fb17-4bea-b855-172beefedabd",
   "metadata": {},
   "outputs": [],
   "source": [
    "test_df['unique_categories']"
   ]
  },
  {
   "cell_type": "code",
   "execution_count": null,
   "id": "2b3e4d6c-6221-45ce-816e-f2160a5df08d",
   "metadata": {},
   "outputs": [],
   "source": [
    "train_df['session_price_interaction'] = train_df['session_length'] * train_df['avg_price_viewed']\n",
    "test_df['session_price_interaction'] = test_df['session_length'] * test_df['avg_price_viewed']"
   ]
  },
  {
   "cell_type": "code",
   "execution_count": null,
   "id": "1af4639f-cd1c-44d2-8141-a13cbdf1ea9a",
   "metadata": {},
   "outputs": [],
   "source": [
    "train_df['session_price_interaction']"
   ]
  },
  {
   "cell_type": "code",
   "execution_count": null,
   "id": "18e3ce41-765f-48e9-9db4-14bc93f9b885",
   "metadata": {},
   "outputs": [],
   "source": [
    "test_df['session_price_interaction']"
   ]
  },
  {
   "cell_type": "code",
   "execution_count": null,
   "id": "44ebe354-c74e-4004-8a36-8f3a47e79d08",
   "metadata": {},
   "outputs": [],
   "source": [
    "print(\"Class Distribution in Training Data:\")\n",
    "print(train_df['converted'].value_counts(normalize=True))"
   ]
  },
  {
   "cell_type": "markdown",
   "id": "feb416c3-ddbb-41b9-bb83-16549112481d",
   "metadata": {},
   "source": [
    "### SELECTING FEATURES AND TARGET"
   ]
  },
  {
   "cell_type": "code",
   "execution_count": null,
   "id": "59c654c4-09de-4b81-843e-16d47f9e1b46",
   "metadata": {},
   "outputs": [],
   "source": [
    "features = ['session_length', 'avg_price_viewed', 'unique_categories', 'session_price_interaction']\n",
    "target = 'converted'\n",
    "X_train, y_train = train_df[features], train_df[target]\n",
    "X_test, y_test = test_df[features], test_df[target]"
   ]
  },
  {
   "cell_type": "code",
   "execution_count": null,
   "id": "f3cab2b6-9095-45af-b8f4-07c6c33117ff",
   "metadata": {},
   "outputs": [],
   "source": [
    "X_train"
   ]
  },
  {
   "cell_type": "code",
   "execution_count": null,
   "id": "672327aa-379a-4f67-961c-26eee13504f7",
   "metadata": {},
   "outputs": [],
   "source": [
    "X_test"
   ]
  },
  {
   "cell_type": "code",
   "execution_count": null,
   "id": "ccbda4a1-915e-478c-a584-4110ce440b42",
   "metadata": {},
   "outputs": [],
   "source": [
    "y_train"
   ]
  },
  {
   "cell_type": "code",
   "execution_count": null,
   "id": "f1d68ea6-1890-4a8a-9e6f-a63a5cea67ee",
   "metadata": {},
   "outputs": [],
   "source": [
    "y_test"
   ]
  },
  {
   "cell_type": "markdown",
   "id": "27fec721-fbf4-47eb-af95-6a15c3ef8bea",
   "metadata": {},
   "source": [
    "## 4) BALANCING TECHNIQUES"
   ]
  },
  {
   "cell_type": "markdown",
   "id": "49eb6d7d-e453-4410-a3cc-b4f900a383a8",
   "metadata": {},
   "source": [
    "### 4.1) IDENTIFY IMBALANCE"
   ]
  },
  {
   "cell_type": "code",
   "execution_count": null,
   "id": "69d6b453-5088-41da-b4ef-21ba7ccf3eb4",
   "metadata": {},
   "outputs": [],
   "source": [
    "print(\"Original class distribution:\", Counter(y_train))"
   ]
  },
  {
   "cell_type": "markdown",
   "id": "2a26309f-295d-4a91-9436-644b6a4f108c",
   "metadata": {},
   "source": [
    "### 4.2) TECHNIQUES FOR BALANCING"
   ]
  },
  {
   "cell_type": "markdown",
   "id": "3f3cab14-3daf-4d86-9086-4d542a08fd63",
   "metadata": {},
   "source": [
    "### OVERSAMPLING WITH SMOTE"
   ]
  },
  {
   "cell_type": "code",
   "execution_count": null,
   "id": "97d6a177-a5a8-4c3b-b6b7-252e40346f15",
   "metadata": {},
   "outputs": [],
   "source": [
    "y_train = y_train[:len(X_train)]"
   ]
  },
  {
   "cell_type": "code",
   "execution_count": null,
   "id": "4b294ad2-2818-493e-a52e-267999296191",
   "metadata": {},
   "outputs": [],
   "source": [
    "y_train"
   ]
  },
  {
   "cell_type": "markdown",
   "id": "6e625df5-ae86-4f98-a085-d370db48cd38",
   "metadata": {},
   "source": [
    "### APPLY SMOTE FOR OVERSAMPLING"
   ]
  },
  {
   "cell_type": "code",
   "execution_count": null,
   "id": "5b8dda36-8170-4259-96ee-d8c9510c98f6",
   "metadata": {},
   "outputs": [],
   "source": [
    "smote = SMOTE(sampling_strategy=0.4, random_state=42)\n",
    "X_train_smote, y_train_smote = smote.fit_resample(X_train, y_train)\n",
    "\n",
    "print(\"After SMOTE:\", Counter(y_train_smote))"
   ]
  },
  {
   "cell_type": "markdown",
   "id": "532475a3-e93f-4659-b1bf-aff53ba1b602",
   "metadata": {},
   "source": [
    "### UNDERSAMPLING THE MAJOR CLASS"
   ]
  },
  {
   "cell_type": "code",
   "execution_count": null,
   "id": "fdd94ebe-2cd3-4aaf-aa26-99544bf06c3d",
   "metadata": {},
   "outputs": [],
   "source": [
    "undersample = RandomUnderSampler(sampling_strategy=0.6, random_state=42)\n",
    "X_train_balanced, y_train_balanced = undersample.fit_resample(X_train_smote, y_train_smote)\n",
    "\n",
    "print(\"Final balanced class distribution:\", Counter(y_train_balanced))"
   ]
  },
  {
   "cell_type": "code",
   "execution_count": null,
   "id": "3e53f59d-770f-466a-8906-70abba33c568",
   "metadata": {},
   "outputs": [],
   "source": [
    "print(\"X_train shape:\", X_train.shape)\n",
    "print(\"y_train shape:\", y_train.shape)\n"
   ]
  },
  {
   "cell_type": "markdown",
   "id": "6fc0c191-1351-4ab7-b59c-b2807d7d3670",
   "metadata": {},
   "source": [
    "### FEATURE SCALING"
   ]
  },
  {
   "cell_type": "code",
   "execution_count": null,
   "id": "0b1991b0-186c-487e-9d2c-c8473933d76d",
   "metadata": {},
   "outputs": [],
   "source": [
    "scaler = StandardScaler()"
   ]
  },
  {
   "cell_type": "code",
   "execution_count": null,
   "id": "4e32df92-856f-406a-879a-2116ba2c642f",
   "metadata": {},
   "outputs": [],
   "source": [
    "scaler"
   ]
  },
  {
   "cell_type": "code",
   "execution_count": null,
   "id": "d936afb3-7260-4a1b-b647-3a99acfccd56",
   "metadata": {},
   "outputs": [],
   "source": [
    "X_train_scaled = scaler.fit_transform(X_train_balanced)"
   ]
  },
  {
   "cell_type": "code",
   "execution_count": null,
   "id": "3e50ce98-5887-47ae-8915-3b3503b252af",
   "metadata": {},
   "outputs": [],
   "source": [
    "X_train_scaled"
   ]
  },
  {
   "cell_type": "code",
   "execution_count": null,
   "id": "1686c34b-026e-46e8-ac60-e70bcef3d430",
   "metadata": {},
   "outputs": [],
   "source": [
    "X_test_scaled = scaler.transform(X_test)"
   ]
  },
  {
   "cell_type": "code",
   "execution_count": null,
   "id": "796cde45-ddb0-48a1-b064-1b5ead33975b",
   "metadata": {},
   "outputs": [],
   "source": [
    "X_test_scaled"
   ]
  },
  {
   "cell_type": "markdown",
   "id": "9164ed77-25e4-4271-9094-f9936b651ce3",
   "metadata": {},
   "source": [
    "## 5) MODEL BUILDING - SUPERVISED LEARNING MODELS"
   ]
  },
  {
   "cell_type": "markdown",
   "id": "d03af4d6-8773-44d9-9de6-9e67aa09ac48",
   "metadata": {},
   "source": [
    "## CLASSIFICATION"
   ]
  },
  {
   "cell_type": "markdown",
   "id": "48ba2591-edc6-4a5b-813e-cda4fc079734",
   "metadata": {},
   "source": [
    "### LOGISTIC REGRESSION"
   ]
  },
  {
   "cell_type": "markdown",
   "id": "4d2fe97d-a47b-45cd-9fa2-a226f4e9eb92",
   "metadata": {},
   "source": [
    "### TRAIN THE MODEL"
   ]
  },
  {
   "cell_type": "code",
   "execution_count": null,
   "id": "548d5bc0-837b-4d7e-b4cd-3423a67e6bf8",
   "metadata": {},
   "outputs": [],
   "source": [
    "print(\"Training data class distribution:\", Counter(y_train_balanced))\n",
    "print(\"Testing data class distribution:\", Counter(y_test))"
   ]
  },
  {
   "cell_type": "code",
   "execution_count": null,
   "id": "9dd66c38-116e-42eb-b12a-8a9a6658bd7e",
   "metadata": {},
   "outputs": [],
   "source": [
    "log_reg = LogisticRegression(random_state=77, class_weight = \"balanced\")"
   ]
  },
  {
   "cell_type": "code",
   "execution_count": null,
   "id": "7056b990-b02a-4c42-9163-cf7f67d32ecf",
   "metadata": {},
   "outputs": [],
   "source": [
    "log_reg"
   ]
  },
  {
   "cell_type": "code",
   "execution_count": null,
   "id": "4ae8d050-b278-42df-95b0-3c931e50a87d",
   "metadata": {},
   "outputs": [],
   "source": [
    "log_reg.fit(X_train_scaled, y_train_balanced) "
   ]
  },
  {
   "cell_type": "markdown",
   "id": "f61c91a6-d82b-4a7d-892c-68a3e705b2c9",
   "metadata": {},
   "source": [
    "### PREDICTION"
   ]
  },
  {
   "cell_type": "code",
   "execution_count": null,
   "id": "07f3d7ab-d98b-48f9-abf7-ff675006363d",
   "metadata": {},
   "outputs": [],
   "source": [
    "y_prob_lr = log_reg.predict_proba(X_test_scaled)[:, 1]  "
   ]
  },
  {
   "cell_type": "code",
   "execution_count": null,
   "id": "9a47e714-33ad-4061-bc8c-830b5336aeb5",
   "metadata": {},
   "outputs": [],
   "source": [
    "y_prob_lr"
   ]
  },
  {
   "cell_type": "markdown",
   "id": "7b4b4800-132b-4502-939b-b23ca99ad9b9",
   "metadata": {},
   "source": [
    "### ADJUST THRESHOLD"
   ]
  },
  {
   "cell_type": "code",
   "execution_count": null,
   "id": "a068f68b-6374-41a9-a3b5-ff05b24d77af",
   "metadata": {},
   "outputs": [],
   "source": [
    "y_pred_lr = (y_prob_lr > 0.5).astype(int)  "
   ]
  },
  {
   "cell_type": "code",
   "execution_count": null,
   "id": "47dae724-35a8-4251-9702-a2a873f9c3ff",
   "metadata": {},
   "outputs": [],
   "source": [
    "y_pred_lr"
   ]
  },
  {
   "cell_type": "code",
   "execution_count": null,
   "id": "a6df5c0d-74d5-4659-80a5-0216a6a72a16",
   "metadata": {},
   "outputs": [],
   "source": [
    "print(\"Accuracy:\", accuracy_score(y_test, y_pred_lr))\n",
    "print(classification_report(y_test, y_pred_lr))"
   ]
  },
  {
   "cell_type": "markdown",
   "id": "4969ee69-1a8d-42f1-9a40-aa6eaadb1d01",
   "metadata": {},
   "source": [
    "### DECISION TREE CLASSIFIER"
   ]
  },
  {
   "cell_type": "code",
   "execution_count": null,
   "id": "d91f0c58-3613-45f4-bfb7-83736a4e2d72",
   "metadata": {},
   "outputs": [],
   "source": [
    "param_grid = {\n",
    "    'max_depth': [5, 10, 15, 20],  \n",
    "    'min_samples_split': [10, 20, 50],  \n",
    "    'class_weight': [\"balanced\"]\n",
    "}"
   ]
  },
  {
   "cell_type": "code",
   "execution_count": null,
   "id": "02a428d1-ff73-404b-86d3-0df62ea45cbc",
   "metadata": {},
   "outputs": [],
   "source": [
    "dt_model = DecisionTreeClassifier(random_state=42)"
   ]
  },
  {
   "cell_type": "code",
   "execution_count": null,
   "id": "a738b59d-2f83-497a-9bb8-8b6e798e0e65",
   "metadata": {},
   "outputs": [],
   "source": [
    "dt_model"
   ]
  },
  {
   "cell_type": "markdown",
   "id": "39cfd2c8-07fa-4afd-931e-86ba4a198616",
   "metadata": {},
   "source": [
    "### GRID SEARCH"
   ]
  },
  {
   "cell_type": "code",
   "execution_count": null,
   "id": "0c6cd092-cc62-4a67-ab19-7a21802b825d",
   "metadata": {},
   "outputs": [],
   "source": [
    "grid_search_dt = GridSearchCV(dt_model, param_grid, scoring='f1', cv=3, verbose=2, n_jobs=-1)"
   ]
  },
  {
   "cell_type": "code",
   "execution_count": null,
   "id": "f4d946d1-b552-473f-900f-2ade2de7b764",
   "metadata": {},
   "outputs": [],
   "source": [
    "grid_search_dt"
   ]
  },
  {
   "cell_type": "code",
   "execution_count": null,
   "id": "ebbe515a-8c22-4eea-b192-dcb9e7a6d11a",
   "metadata": {},
   "outputs": [],
   "source": [
    "grid_search_dt.fit(X_train_balanced, y_train_balanced)"
   ]
  },
  {
   "cell_type": "code",
   "execution_count": null,
   "id": "10c2a30d-9bb4-49cd-8430-02295a6c8304",
   "metadata": {},
   "outputs": [],
   "source": [
    "best_dt = grid_search_dt.best_estimator_"
   ]
  },
  {
   "cell_type": "code",
   "execution_count": null,
   "id": "d8f6b0de-ed90-4a19-ae7e-09012d453d09",
   "metadata": {},
   "outputs": [],
   "source": [
    "best_dt"
   ]
  },
  {
   "cell_type": "markdown",
   "id": "bbbf86e7-8ca0-48c8-aefa-30f50bd071c3",
   "metadata": {},
   "source": [
    "### PREDICTION"
   ]
  },
  {
   "cell_type": "code",
   "execution_count": null,
   "id": "c9b8a49b-a865-400e-b053-44012974eab5",
   "metadata": {},
   "outputs": [],
   "source": [
    "y_pred_dt_tuned = best_dt.predict(X_test_scaled)"
   ]
  },
  {
   "cell_type": "code",
   "execution_count": null,
   "id": "50b3fab4-22f1-41b4-a3f9-202dc62ff8a0",
   "metadata": {},
   "outputs": [],
   "source": [
    "y_pred_dt_tuned"
   ]
  },
  {
   "cell_type": "markdown",
   "id": "7af94d1e-3b32-417b-b722-baa2737f9f27",
   "metadata": {},
   "source": [
    "### EVALUATION"
   ]
  },
  {
   "cell_type": "code",
   "execution_count": null,
   "id": "b8fd82bc-fd56-4cf5-81ea-b5a6ffe08e7b",
   "metadata": {},
   "outputs": [],
   "source": [
    "print(\"Best Parameters:\", grid_search_dt.best_params_)\n",
    "print(classification_report(y_test, y_pred_dt_tuned))"
   ]
  },
  {
   "cell_type": "markdown",
   "id": "b38e36ac-b399-4e2b-b290-c30ea6d4ce70",
   "metadata": {},
   "source": [
    "### RANDOM FOREST CLASSIFIER"
   ]
  },
  {
   "cell_type": "code",
   "execution_count": null,
   "id": "b4a62ab0-bf1c-4f5e-87fb-ae2720ca7284",
   "metadata": {},
   "outputs": [],
   "source": [
    "rf_model = RandomForestClassifier(\n",
    "    n_estimators=500, \n",
    "    max_depth=20, \n",
    "    min_samples_split=10, \n",
    "    min_samples_leaf=5,  \n",
    "    class_weight={0: 1, 1: 5},  \n",
    "    random_state=42, \n",
    "    n_jobs=-1\n",
    ")"
   ]
  },
  {
   "cell_type": "code",
   "execution_count": null,
   "id": "0aec356f-c4a5-41ab-863f-83487746edcd",
   "metadata": {},
   "outputs": [],
   "source": [
    "rf_model"
   ]
  },
  {
   "cell_type": "markdown",
   "id": "a78d5e91-2f60-4b72-b2de-a4b3478d357a",
   "metadata": {},
   "source": [
    "### TRAIN THE MODEL"
   ]
  },
  {
   "cell_type": "code",
   "execution_count": null,
   "id": "71161072-3165-4866-b7d1-afc59bafb4f6",
   "metadata": {},
   "outputs": [],
   "source": [
    "rf_model.fit(X_train_balanced, y_train_balanced)"
   ]
  },
  {
   "cell_type": "markdown",
   "id": "467d688a-e44b-496f-85a8-64bd9b6f818a",
   "metadata": {},
   "source": [
    "### PREDICTION"
   ]
  },
  {
   "cell_type": "code",
   "execution_count": null,
   "id": "29fcef6f-ffae-4573-aabf-260c946c4442",
   "metadata": {},
   "outputs": [],
   "source": [
    "y_pred_rf = rf_model.predict(X_test_scaled)"
   ]
  },
  {
   "cell_type": "code",
   "execution_count": null,
   "id": "821b9037-47e8-4c1a-b51f-099e26e34243",
   "metadata": {},
   "outputs": [],
   "source": [
    "y_pred_rf"
   ]
  },
  {
   "cell_type": "markdown",
   "id": "344b38a1-69f7-4b41-ba1d-7c85aab574db",
   "metadata": {},
   "source": [
    "### EVALUATION"
   ]
  },
  {
   "cell_type": "code",
   "execution_count": null,
   "id": "538c9305-8552-449b-8c1c-481c6999b7b8",
   "metadata": {},
   "outputs": [],
   "source": [
    "print(\"Accuracy:\", accuracy_score(y_test, y_pred_rf))\n",
    "print(\"Classification Report:\\n\", classification_report(y_test, y_pred_rf))"
   ]
  },
  {
   "cell_type": "markdown",
   "id": "26deaacf-29e9-4ecc-8345-fe76c2408c09",
   "metadata": {},
   "source": [
    "### XGBOOST CLASSIFIER"
   ]
  },
  {
   "cell_type": "code",
   "execution_count": null,
   "id": "36cc6183-651a-4885-8af5-bc842d0c0edf",
   "metadata": {},
   "outputs": [],
   "source": [
    "xgb_model = XGBClassifier(\n",
    "    n_estimators=300,\n",
    "    max_depth=5,\n",
    "    learning_rate=0.02,\n",
    "    scale_pos_weight=1.0,  \n",
    "    min_child_weight=20,  \n",
    "    gamma=5,  \n",
    "    subsample=0.8,\n",
    "    colsample_bytree=0.8,\n",
    "    eval_metric='aucpr',\n",
    "    random_state=42\n",
    ")"
   ]
  },
  {
   "cell_type": "code",
   "execution_count": null,
   "id": "4faa91da-3366-403e-9129-92f61431520f",
   "metadata": {},
   "outputs": [],
   "source": [
    "xgb_model"
   ]
  },
  {
   "cell_type": "markdown",
   "id": "8fd776f2-7541-41b5-bd15-f47c93a68003",
   "metadata": {},
   "source": [
    "### TRAIN THE MODEL"
   ]
  },
  {
   "cell_type": "code",
   "execution_count": null,
   "id": "59adafd0-1d22-4976-bd67-2f59843d21b1",
   "metadata": {},
   "outputs": [],
   "source": [
    "xgb_model.fit(X_train_balanced, y_train_balanced)"
   ]
  },
  {
   "cell_type": "markdown",
   "id": "6e1e37d1-0347-481f-93fa-ca837167f32d",
   "metadata": {},
   "source": [
    "### PREDICTION"
   ]
  },
  {
   "cell_type": "code",
   "execution_count": null,
   "id": "7c0358f4-61ac-4bdd-a9b5-8d8db0888060",
   "metadata": {},
   "outputs": [],
   "source": [
    "y_pred_xgb = xgb_model.predict(X_test_scaled)"
   ]
  },
  {
   "cell_type": "code",
   "execution_count": null,
   "id": "89781bf8-f430-4942-9ac0-139b3f3ddd82",
   "metadata": {},
   "outputs": [],
   "source": [
    "y_pred_xgb"
   ]
  },
  {
   "cell_type": "markdown",
   "id": "901c4976-d84f-49b8-b6a3-21359df67683",
   "metadata": {},
   "source": [
    "### EVALUATION"
   ]
  },
  {
   "cell_type": "code",
   "execution_count": null,
   "id": "5354eb7f-6043-4d34-80a7-dfbe40055489",
   "metadata": {},
   "outputs": [],
   "source": [
    "print(\"Accuracy:\", accuracy_score(y_test, y_pred_xgb))\n",
    "print(\"Classification Report:\\n\", classification_report(y_test, y_pred_xgb))"
   ]
  },
  {
   "cell_type": "markdown",
   "id": "0fa47f8b-c714-4175-a51d-b3a3f45f3055",
   "metadata": {},
   "source": [
    "### NEURAL NETWORK CLASSIFIER"
   ]
  },
  {
   "cell_type": "code",
   "execution_count": null,
   "id": "1a8e7be8-9dab-4cda-8d19-1cc0e8db3b04",
   "metadata": {},
   "outputs": [],
   "source": [
    "smote = SMOTE(sampling_strategy=1.00, random_state=42)\n",
    "X_train_smote, y_train_smote = smote.fit_resample(X_train, y_train)"
   ]
  },
  {
   "cell_type": "code",
   "execution_count": null,
   "id": "f10e3b27-7e6c-4636-b1bb-41934c9e703f",
   "metadata": {},
   "outputs": [],
   "source": [
    "mlp_model = MLPClassifier(hidden_layer_sizes=(256, 128, 64, 32), activation='relu', solver='adam', \n",
    "                    alpha=0.01, batch_size=64, max_iter=1000, random_state=42, early_stopping=True)"
   ]
  },
  {
   "cell_type": "code",
   "execution_count": null,
   "id": "718e8ee0-3c45-4ef5-a120-5b66d2807d17",
   "metadata": {},
   "outputs": [],
   "source": [
    "mlp_model"
   ]
  },
  {
   "cell_type": "markdown",
   "id": "a36c305e-f071-4000-8f40-af01019079ff",
   "metadata": {},
   "source": [
    "### TRAIN THE MODEL"
   ]
  },
  {
   "cell_type": "code",
   "execution_count": null,
   "id": "4b9a4d00-1c9b-406e-b0c2-afb91ae47ba6",
   "metadata": {},
   "outputs": [],
   "source": [
    "print(f\"X_train_balanced shape: {X_train_balanced.shape}\")\n",
    "print(f\"y_train_balanced shape: {y_train_balanced.shape}\")"
   ]
  },
  {
   "cell_type": "code",
   "execution_count": null,
   "id": "dd19d241-afca-4bfb-a15d-145c9d30809d",
   "metadata": {},
   "outputs": [],
   "source": [
    "if len(X_train_balanced) != len(y_train_balanced):\n",
    "    min_length = min(len(X_train_balanced), len(y_train_balanced))\n",
    "    X_train_balanced = X_train_balanced[:min_length]\n",
    "    y_train_balanced = y_train_balanced[:min_length]"
   ]
  },
  {
   "cell_type": "code",
   "execution_count": null,
   "id": "e446abd7-5e15-43da-a7e6-8cbd34e428fe",
   "metadata": {},
   "outputs": [],
   "source": [
    "if hasattr(mlp_model, \"n_layers_\"):\n",
    "    y_pred_mlp = mlp_model.predict(X_test_scaled)\n",
    "else:\n",
    "    print(\"MLP Model has not been trained properly.\")\n"
   ]
  },
  {
   "cell_type": "code",
   "execution_count": null,
   "id": "1dd68be6-e9e9-4ebe-a5cd-c30d6843b3ba",
   "metadata": {},
   "outputs": [],
   "source": [
    "try:\n",
    "    mlp_model.fit(X_train_balanced, y_train_balanced)\n",
    "except ValueError as e:\n",
    "    print(f\"Training failed: {e}\")\n"
   ]
  },
  {
   "cell_type": "code",
   "execution_count": null,
   "id": "ece333ff-42c2-49ef-bc3b-20fc3220f07a",
   "metadata": {},
   "outputs": [],
   "source": [
    "mlp_model.fit(X_train_balanced, y_train_balanced)"
   ]
  },
  {
   "cell_type": "markdown",
   "id": "17b42b8f-c2d2-4943-9471-cf6b15a25565",
   "metadata": {},
   "source": [
    "### PREDICTION"
   ]
  },
  {
   "cell_type": "code",
   "execution_count": null,
   "id": "5ad4d2a9-f41e-4d50-b79b-c21ebfd71bc3",
   "metadata": {},
   "outputs": [],
   "source": [
    "y_pred_mlp = mlp_model.predict(X_test_scaled)"
   ]
  },
  {
   "cell_type": "code",
   "execution_count": null,
   "id": "8eeed492-1ad9-4c9e-bdf6-165095ae6bea",
   "metadata": {},
   "outputs": [],
   "source": [
    "y_pred_mlp"
   ]
  },
  {
   "cell_type": "markdown",
   "id": "1152ad2e-fd1f-4e5c-8032-58a911ec5e7c",
   "metadata": {},
   "source": [
    "### THRESHOLD TUNING"
   ]
  },
  {
   "cell_type": "code",
   "execution_count": null,
   "id": "6e94f8c1-a6be-42a4-a01e-892fd9427f6e",
   "metadata": {},
   "outputs": [],
   "source": [
    "y_probs = mlp_model.predict_proba(X_test_scaled)[:, 1]\n",
    "\n",
    "precisions, recalls, thresholds = precision_recall_curve(y_test, y_probs)\n",
    "f1_scores = 2 * (precisions * recalls) / (precisions + recalls + 1e-6)\n",
    "optimal_threshold = thresholds[np.argmax(f1_scores)]\n",
    "\n",
    "y_pred = (y_probs > optimal_threshold).astype(int)"
   ]
  },
  {
   "cell_type": "markdown",
   "id": "a547d6bc-c310-45a6-93ac-11744fbe5e30",
   "metadata": {},
   "source": [
    "### EVALUATION"
   ]
  },
  {
   "cell_type": "code",
   "execution_count": null,
   "id": "d66c590c-8db3-4679-95ca-caf7579a5728",
   "metadata": {},
   "outputs": [],
   "source": [
    "accuracy = accuracy_score(y_test, y_pred_mlp)\n",
    "precision = average_precision_score(y_test, y_pred_mlp)\n",
    "recall = recall_score(y_test, y_pred_mlp)\n",
    "f1 = f1_score(y_test, y_pred_mlp)\n",
    "roc_auc = roc_auc_score(y_test, y_pred_mlp)"
   ]
  },
  {
   "cell_type": "markdown",
   "id": "6ba5f21d-85db-44a2-94aa-60accbe92dd4",
   "metadata": {},
   "source": [
    "### FINAL RESULTS"
   ]
  },
  {
   "cell_type": "code",
   "execution_count": null,
   "id": "2790c0d5-26fc-4ab0-bacb-2ba5fb0247ff",
   "metadata": {},
   "outputs": [],
   "source": [
    "print(\"Classification Report:\\n\", classification_report(y_test, y_pred_mlp))"
   ]
  },
  {
   "cell_type": "markdown",
   "id": "d377e554-5252-46c4-a0df-5423ed926a34",
   "metadata": {},
   "source": [
    "## REGRESSION"
   ]
  },
  {
   "cell_type": "markdown",
   "id": "a2262f56-e401-4786-a1c9-7a1a84cdfc4b",
   "metadata": {},
   "source": [
    "### INITIALIZE LINEAR REGRESSION - TRAIN THE MODEL"
   ]
  },
  {
   "cell_type": "code",
   "execution_count": null,
   "id": "af7ac373-53df-4b93-aa1b-9680ee546e4e",
   "metadata": {},
   "outputs": [],
   "source": [
    "lr_model = LinearRegression()"
   ]
  },
  {
   "cell_type": "code",
   "execution_count": null,
   "id": "378c93f3-5f91-4e4e-9316-ce9c1e1555bd",
   "metadata": {},
   "outputs": [],
   "source": [
    "lr_model"
   ]
  },
  {
   "cell_type": "markdown",
   "id": "7e49e6d4-b5f6-4a10-9ae5-e0e5141bdc39",
   "metadata": {},
   "source": [
    "### FIT THE MODEL"
   ]
  },
  {
   "cell_type": "code",
   "execution_count": null,
   "id": "0e710b10-7da3-4d80-85d9-4c3464dd07a1",
   "metadata": {},
   "outputs": [],
   "source": [
    "lr_model.fit(X_train_balanced, y_train_balanced)"
   ]
  },
  {
   "cell_type": "markdown",
   "id": "3a065473-ca33-40ac-9423-05df0940b65d",
   "metadata": {},
   "source": [
    "### PREDICTION"
   ]
  },
  {
   "cell_type": "code",
   "execution_count": null,
   "id": "a8cef872-5247-4141-a304-f9f6b7450451",
   "metadata": {},
   "outputs": [],
   "source": [
    "y_pred_lr = lr_model.predict(X_test_scaled)"
   ]
  },
  {
   "cell_type": "code",
   "execution_count": null,
   "id": "5050cf51-664c-4b9e-9170-43f1995c0a70",
   "metadata": {},
   "outputs": [],
   "source": [
    "y_pred_lr"
   ]
  },
  {
   "cell_type": "markdown",
   "id": "aa024430-b440-453b-a3fe-6b26d66bd0b1",
   "metadata": {},
   "source": [
    "### EVALUATION"
   ]
  },
  {
   "cell_type": "code",
   "execution_count": null,
   "id": "2b846db2-f829-4555-8031-f089d6b879a2",
   "metadata": {},
   "outputs": [],
   "source": [
    "mae = mean_absolute_error(y_test, y_pred_lr)\n",
    "mse = mean_squared_error(y_test, y_pred_lr)\n",
    "rmse = np.sqrt(mse)\n",
    "r2 = r2_score(y_test, y_pred_lr)"
   ]
  },
  {
   "cell_type": "markdown",
   "id": "b333b6b1-2050-4a5d-8e84-46afb89c9869",
   "metadata": {},
   "source": [
    "### FINAL RESULTS"
   ]
  },
  {
   "cell_type": "code",
   "execution_count": null,
   "id": "0805c30a-0ef2-4002-9718-504b094a54e2",
   "metadata": {},
   "outputs": [],
   "source": [
    "print(\"Linear Regression Results:\")\n",
    "print(f\"MAE: {mae:.4f}, MSE: {mse:.4f}, RMSE: {rmse:.4f}, R^2: {r2:.4f}\\n\")\n",
    "\n",
    "print(\"Linear Regression model training and evaluation completed.\")"
   ]
  },
  {
   "cell_type": "markdown",
   "id": "49e13a4a-f1d3-43fe-8601-572eb1266a4a",
   "metadata": {},
   "source": [
    "### RIDGE REGRESSION MODEL - TRAINING"
   ]
  },
  {
   "cell_type": "code",
   "execution_count": null,
   "id": "bb71244d-595b-4142-ab30-bad8d0d54bfa",
   "metadata": {},
   "outputs": [],
   "source": [
    "param_grid_ridge = {'alpha': [0.1, 1.0, 10.0, 100.0]}"
   ]
  },
  {
   "cell_type": "code",
   "execution_count": null,
   "id": "166bbf4b-5e3d-40b2-87b8-7fab3cf2ed5c",
   "metadata": {},
   "outputs": [],
   "source": [
    "param_grid_ridge"
   ]
  },
  {
   "cell_type": "code",
   "execution_count": null,
   "id": "43de6f16-26a3-4903-a153-ecf439e0aee9",
   "metadata": {},
   "outputs": [],
   "source": [
    "ridge_model = Ridge()"
   ]
  },
  {
   "cell_type": "code",
   "execution_count": null,
   "id": "6f9925cf-3516-49e7-b79c-eaa1113b0291",
   "metadata": {},
   "outputs": [],
   "source": [
    "ridge_model"
   ]
  },
  {
   "cell_type": "markdown",
   "id": "e46d065b-db54-4ec0-a27f-5b88884eb395",
   "metadata": {},
   "source": [
    "### FIT THE MODEL"
   ]
  },
  {
   "cell_type": "code",
   "execution_count": null,
   "id": "f2a6bcbd-1cf0-42d4-be03-b1b3fee1e516",
   "metadata": {},
   "outputs": [],
   "source": [
    "grid_search_ridge = GridSearchCV(ridge_model, param_grid_ridge, cv=5, scoring='r2')"
   ]
  },
  {
   "cell_type": "code",
   "execution_count": null,
   "id": "f9e251e2-7719-44d0-8fd9-c7cd783f8615",
   "metadata": {},
   "outputs": [],
   "source": [
    "grid_search_ridge.fit(X_train_balanced, y_train_balanced)"
   ]
  },
  {
   "cell_type": "code",
   "execution_count": null,
   "id": "c74cbdef-5a1e-4d6f-8883-de17535f6544",
   "metadata": {},
   "outputs": [],
   "source": [
    "best_ridge_model = grid_search_ridge.best_estimator_"
   ]
  },
  {
   "cell_type": "code",
   "execution_count": null,
   "id": "8162f704-b981-4806-9582-e8fb44dc77f9",
   "metadata": {},
   "outputs": [],
   "source": [
    "best_ridge_model"
   ]
  },
  {
   "cell_type": "markdown",
   "id": "9f8f04be-a1cc-4181-a2b6-00b539da285a",
   "metadata": {},
   "source": [
    "### PREDICTION"
   ]
  },
  {
   "cell_type": "code",
   "execution_count": null,
   "id": "943a4a37-a8a2-4f0d-933e-2db45fb01adf",
   "metadata": {},
   "outputs": [],
   "source": [
    "y_pred_ridge = best_ridge_model.predict(X_test_scaled)"
   ]
  },
  {
   "cell_type": "code",
   "execution_count": null,
   "id": "003ec732-52a4-4402-9d92-7b6062ad0fb5",
   "metadata": {},
   "outputs": [],
   "source": [
    "y_pred_ridge"
   ]
  },
  {
   "cell_type": "markdown",
   "id": "56fcee21-ccd9-49b2-a7bf-1ac07b827cc6",
   "metadata": {},
   "source": [
    "### EVALUATION"
   ]
  },
  {
   "cell_type": "code",
   "execution_count": null,
   "id": "21e35647-c9c8-4342-b079-6e91c9f202b9",
   "metadata": {},
   "outputs": [],
   "source": [
    "mae = mean_absolute_error(y_test, y_pred_ridge)\n",
    "mse = mean_squared_error(y_test, y_pred_ridge)\n",
    "rmse = np.sqrt(mse)\n",
    "r2 = r2_score(y_test, y_pred_ridge)"
   ]
  },
  {
   "cell_type": "markdown",
   "id": "4555ce16-89c7-4205-8492-fcc6834fc5c8",
   "metadata": {},
   "source": [
    "### FINAL RESULTS"
   ]
  },
  {
   "cell_type": "code",
   "execution_count": null,
   "id": "b5035a01-7ef2-450d-9252-9455dfd45d48",
   "metadata": {},
   "outputs": [],
   "source": [
    "print(\"Ridge Regression Results:\")\n",
    "print(f\"MAE: {mae:.4f}, MSE: {mse:.4f}, RMSE: {rmse:.4f}, R^2: {r2:.4f}\\n\")\n",
    "\n",
    "print(\"Ridge Regression model training and evaluation completed.\")"
   ]
  },
  {
   "cell_type": "markdown",
   "id": "acd06e9f-9585-4f44-a2ce-62f69b35eb4f",
   "metadata": {},
   "source": [
    "### LASSO REGRESSION"
   ]
  },
  {
   "cell_type": "code",
   "execution_count": null,
   "id": "6883c2d7-556d-4d20-bcf7-8827f5ac1874",
   "metadata": {},
   "outputs": [],
   "source": [
    "param_grid_lasso = {'alpha': [0.1, 1.0, 10.0, 100.0]}"
   ]
  },
  {
   "cell_type": "code",
   "execution_count": null,
   "id": "1ecc58af-e3f8-47da-b231-5cb6e77fb0e9",
   "metadata": {},
   "outputs": [],
   "source": [
    "param_grid_lasso"
   ]
  },
  {
   "cell_type": "code",
   "execution_count": null,
   "id": "92a81ddf-85b2-44ef-807a-a66fe39191db",
   "metadata": {},
   "outputs": [],
   "source": [
    "lasso_model = Lasso()"
   ]
  },
  {
   "cell_type": "code",
   "execution_count": null,
   "id": "7b96779b-5c7b-4bd5-a06c-4afea629cf3a",
   "metadata": {},
   "outputs": [],
   "source": [
    "lasso_model"
   ]
  },
  {
   "cell_type": "markdown",
   "id": "e3d3a6c2-8ad5-4730-8799-c09c4b5ea5c0",
   "metadata": {},
   "source": [
    "### FIT THE MODEL"
   ]
  },
  {
   "cell_type": "code",
   "execution_count": null,
   "id": "018a8ea1-5fd6-4ce7-9699-8c88d1f7ed75",
   "metadata": {},
   "outputs": [],
   "source": [
    "grid_search_lasso = GridSearchCV(lasso_model, param_grid_lasso, cv=5, scoring='r2')"
   ]
  },
  {
   "cell_type": "code",
   "execution_count": null,
   "id": "46d3c94c-d2b8-40ec-a66f-a004dcf71edd",
   "metadata": {},
   "outputs": [],
   "source": [
    "grid_search_lasso"
   ]
  },
  {
   "cell_type": "code",
   "execution_count": null,
   "id": "24bdb4e4-85b4-402d-b972-d376390599c2",
   "metadata": {},
   "outputs": [],
   "source": [
    "grid_search_lasso.fit(X_train_balanced, y_train_balanced)"
   ]
  },
  {
   "cell_type": "code",
   "execution_count": null,
   "id": "e575b8c8-8f65-4e0e-8a6c-b13fda5df3ae",
   "metadata": {},
   "outputs": [],
   "source": [
    "best_lasso_model = grid_search_lasso.best_estimator_"
   ]
  },
  {
   "cell_type": "code",
   "execution_count": null,
   "id": "44d7d800-3541-451c-923e-7c29d0923e3c",
   "metadata": {},
   "outputs": [],
   "source": [
    "best_lasso_model"
   ]
  },
  {
   "cell_type": "markdown",
   "id": "5701e8e2-54d1-4489-9aab-dbdf573c6a12",
   "metadata": {},
   "source": [
    "### PREDICTION"
   ]
  },
  {
   "cell_type": "code",
   "execution_count": null,
   "id": "9073b783-5b00-4d4b-9e41-f4e567c89c00",
   "metadata": {},
   "outputs": [],
   "source": [
    "y_pred_lasso = best_lasso_model.predict(X_test_scaled)"
   ]
  },
  {
   "cell_type": "code",
   "execution_count": null,
   "id": "8fe41f66-a715-46da-bc43-fa852d2ba330",
   "metadata": {},
   "outputs": [],
   "source": [
    "y_pred_lasso"
   ]
  },
  {
   "cell_type": "markdown",
   "id": "3b6d5cd2-64b0-4d1a-a6e9-fa2c67074130",
   "metadata": {},
   "source": [
    "### EVALUATION"
   ]
  },
  {
   "cell_type": "code",
   "execution_count": null,
   "id": "b3a79266-f462-43c4-ada3-63a7253d624d",
   "metadata": {},
   "outputs": [],
   "source": [
    "mae = mean_absolute_error(y_test, y_pred_lasso)\n",
    "mse = mean_squared_error(y_test, y_pred_lasso)\n",
    "rmse = np.sqrt(mse)\n",
    "r2 = r2_score(y_test, y_pred_lasso)"
   ]
  },
  {
   "cell_type": "code",
   "execution_count": null,
   "id": "0666f40d-95c4-4ba4-95f1-7db269e9c47f",
   "metadata": {},
   "outputs": [],
   "source": [
    "print(\"Lasso Regression Results:\")\n",
    "print(f\"MAE: {mae:.4f}, MSE: {mse:.4f}, RMSE: {rmse:.4f}, R^2: {r2:.4f}\\n\")\n",
    "\n",
    "print(\"Lasso Regression model training and evaluation completed.\")"
   ]
  },
  {
   "cell_type": "markdown",
   "id": "1968c6a9-1e28-4139-9e08-92ff99a0d3d5",
   "metadata": {},
   "source": [
    "### GRADIENT BOOSTING REGRESSOR"
   ]
  },
  {
   "cell_type": "markdown",
   "id": "5a1743b6-0ff8-4ec0-adde-ae1c6d7caf54",
   "metadata": {},
   "source": [
    "### HYPERPARAMETER TUNING"
   ]
  },
  {
   "cell_type": "code",
   "execution_count": null,
   "id": "06443e59-0ba8-42d6-b192-f9cb19f8aed3",
   "metadata": {},
   "outputs": [],
   "source": [
    "param_grid_gbr = {\n",
    "    'n_estimators': [100, 200, 300],\n",
    "    'learning_rate': [0.01, 0.1, 0.2],\n",
    "    'max_depth': [3, 5, 7]\n",
    "}"
   ]
  },
  {
   "cell_type": "code",
   "execution_count": null,
   "id": "ccb65602-f06f-4df3-bdcd-b5717dec8ba9",
   "metadata": {},
   "outputs": [],
   "source": [
    "param_grid_gbr"
   ]
  },
  {
   "cell_type": "markdown",
   "id": "98325339-f4ff-4886-915a-3056876d77e3",
   "metadata": {},
   "source": [
    "### TRAIN THE MODEL"
   ]
  },
  {
   "cell_type": "code",
   "execution_count": null,
   "id": "6f3761d8-a167-43c6-b23b-e3ac7cd16ca5",
   "metadata": {},
   "outputs": [],
   "source": [
    "gbr_model = GradientBoostingRegressor()"
   ]
  },
  {
   "cell_type": "code",
   "execution_count": null,
   "id": "4a484fd2-c4fa-469d-8b98-2ec530e4a831",
   "metadata": {},
   "outputs": [],
   "source": [
    "gbr_model"
   ]
  },
  {
   "cell_type": "code",
   "execution_count": null,
   "id": "805ff415-3c0c-4243-96fc-02a33c96f8bd",
   "metadata": {},
   "outputs": [],
   "source": [
    "grid_search_gbr = GridSearchCV(gbr_model, param_grid_gbr, cv=5, scoring='r2')"
   ]
  },
  {
   "cell_type": "code",
   "execution_count": null,
   "id": "35f3f544-cc79-466e-bc3e-38e275c73467",
   "metadata": {},
   "outputs": [],
   "source": [
    "grid_search_gbr"
   ]
  },
  {
   "cell_type": "markdown",
   "id": "5545e645-ace2-42c8-a15b-989ca32d0590",
   "metadata": {},
   "source": [
    "### FIT THE MODEL"
   ]
  },
  {
   "cell_type": "code",
   "execution_count": null,
   "id": "99a0eba2-f5af-4e18-8324-8dd313a9e9e5",
   "metadata": {},
   "outputs": [],
   "source": [
    "grid_search_gbr.fit(X_train_balanced, y_train_balanced)"
   ]
  },
  {
   "cell_type": "code",
   "execution_count": null,
   "id": "6d7b0b63-be13-4f54-be1e-1e28dfa2992a",
   "metadata": {},
   "outputs": [],
   "source": [
    "best_gbr_model = grid_search_gbr.best_estimator_"
   ]
  },
  {
   "cell_type": "markdown",
   "id": "d9b7050e-e13e-49f9-8592-aafafd5e4424",
   "metadata": {},
   "source": [
    "### PREDICTION"
   ]
  },
  {
   "cell_type": "code",
   "execution_count": null,
   "id": "45da6385-bd4c-452e-a977-aea001454162",
   "metadata": {},
   "outputs": [],
   "source": [
    "y_pred_gbr = best_gbr_model.predict(X_test_scaled)"
   ]
  },
  {
   "cell_type": "code",
   "execution_count": null,
   "id": "db2c0221-209d-4154-b518-b844eec56194",
   "metadata": {},
   "outputs": [],
   "source": [
    "y_pred_gbr"
   ]
  },
  {
   "cell_type": "markdown",
   "id": "da5d8cf8-7bb5-4087-a1b3-e90793f1e7a0",
   "metadata": {},
   "source": [
    "### EVALUATION"
   ]
  },
  {
   "cell_type": "code",
   "execution_count": null,
   "id": "576c2920-350e-448a-b050-200e1af53cf2",
   "metadata": {},
   "outputs": [],
   "source": [
    "mae = mean_absolute_error(y_test, y_pred_gbr)\n",
    "mse = mean_squared_error(y_test, y_pred_gbr)\n",
    "rmse = np.sqrt(mse)\n",
    "r2 = r2_score(y_test, y_pred_gbr)"
   ]
  },
  {
   "cell_type": "markdown",
   "id": "b98c2bb2-a8c6-4f0c-99ab-21bf91d2f250",
   "metadata": {},
   "source": [
    "### FINAL RESULTS"
   ]
  },
  {
   "cell_type": "code",
   "execution_count": null,
   "id": "01245aa2-afa5-4477-9cd0-3116cb002b81",
   "metadata": {},
   "outputs": [],
   "source": [
    "print(f\"MAE: {mae:.4f}, MSE: {mse:.4f}, RMSE: {rmse:.4f}, R^2: {r2:.4f}\\n\")\n",
    "\n",
    "print(\"Gradient Boosting Regressor model training and evaluation completed.\")"
   ]
  },
  {
   "cell_type": "markdown",
   "id": "61607d0f-5a02-44ae-9df2-2dd45a87a341",
   "metadata": {},
   "source": [
    "## UNSUPERVISED LEARNING MODELS"
   ]
  },
  {
   "cell_type": "markdown",
   "id": "a1ac4bbe-94d1-48d5-83cc-7bf25a0467a1",
   "metadata": {},
   "source": [
    "### K-MEANS CLUSTERING"
   ]
  },
  {
   "cell_type": "markdown",
   "id": "d0380904-187a-4408-9893-66c77f0ede5d",
   "metadata": {},
   "source": [
    "### ENCODING CATEGORICAL VARIABLE"
   ]
  },
  {
   "cell_type": "code",
   "execution_count": null,
   "id": "bda06e1f-6a87-4e19-9e62-e6bfbf33c819",
   "metadata": {},
   "outputs": [],
   "source": [
    "categorical_columns = X_train_balanced.select_dtypes(include=['object']).columns.tolist()\n",
    "print(\"Categorical Columns:\", categorical_columns)"
   ]
  },
  {
   "cell_type": "code",
   "execution_count": null,
   "id": "015c8a65-c0a8-40a6-832f-dfac48a93fc0",
   "metadata": {},
   "outputs": [],
   "source": [
    "if categorical_columns:\n",
    "    X_encoded = encoder.fit_transform(X_train_balanced[categorical_columns])\n",
    "    X_encoded = pd.DataFrame(X_encoded, columns=encoder.get_feature_names_out(categorical_columns))\n",
    "\n",
    "    X_train_balanced = X_train_balanced.drop(columns=categorical_columns)\n",
    "    X_train_balanced = pd.concat([X_train_balanced, X_encoded], axis=1)"
   ]
  },
  {
   "cell_type": "code",
   "execution_count": null,
   "id": "2dca2c5f-03b1-4aa0-91c0-8f410a11c269",
   "metadata": {},
   "outputs": [],
   "source": [
    "X_train_balanced.fillna(X_train_balanced.median(), inplace=True)"
   ]
  },
  {
   "cell_type": "markdown",
   "id": "6246ab91-9720-4eb9-9a09-ad0200e7f419",
   "metadata": {},
   "source": [
    "### STANDARDIZATION THE NUMERICAL FEATURES"
   ]
  },
  {
   "cell_type": "code",
   "execution_count": null,
   "id": "617a6d9b-5578-434e-b1cf-95f6eee06d4e",
   "metadata": {},
   "outputs": [],
   "source": [
    "scaler = StandardScaler()"
   ]
  },
  {
   "cell_type": "code",
   "execution_count": null,
   "id": "09f82f0d-be7b-4bba-a238-7d99aea25977",
   "metadata": {},
   "outputs": [],
   "source": [
    "scaler"
   ]
  },
  {
   "cell_type": "code",
   "execution_count": null,
   "id": "e46b99c8-9af3-410d-a957-5a5cd152307b",
   "metadata": {},
   "outputs": [],
   "source": [
    "X_train_balanced_scaled = scaler.fit_transform(X_train_balanced)"
   ]
  },
  {
   "cell_type": "code",
   "execution_count": null,
   "id": "d4e70604-28ec-4f39-bb1b-bf7be01dca34",
   "metadata": {},
   "outputs": [],
   "source": [
    "X_train_balanced_scaled"
   ]
  },
  {
   "cell_type": "code",
   "execution_count": null,
   "id": "d23d6c3a-2a76-4f0f-a07d-12088833143d",
   "metadata": {},
   "outputs": [],
   "source": [
    "kmeans_model = KMeans(n_clusters=3, random_state=42, n_init=10)"
   ]
  },
  {
   "cell_type": "code",
   "execution_count": null,
   "id": "7cdf6278-6aa2-4937-9ad5-99dbf934f39c",
   "metadata": {},
   "outputs": [],
   "source": [
    "kmeans_model"
   ]
  },
  {
   "cell_type": "markdown",
   "id": "83637d8b-82de-47cd-8fd6-3e1e9e6b08fb",
   "metadata": {},
   "source": [
    "### FIT THE MODEL"
   ]
  },
  {
   "cell_type": "code",
   "execution_count": null,
   "id": "ea6287eb-f7c3-4e20-9f67-8c0f905efd17",
   "metadata": {},
   "outputs": [],
   "source": [
    "kmeans_labels = kmeans_model.fit_predict(X_train_balanced_scaled)"
   ]
  },
  {
   "cell_type": "code",
   "execution_count": null,
   "id": "0f092dcb-9bc3-4759-b6d0-fad13c1911be",
   "metadata": {},
   "outputs": [],
   "source": [
    "kmeans_labels"
   ]
  },
  {
   "cell_type": "markdown",
   "id": "c4a66469-daac-4507-ab98-542150c2f3d4",
   "metadata": {},
   "source": [
    "### PREDICTION"
   ]
  },
  {
   "cell_type": "code",
   "execution_count": null,
   "id": "7397aae1-d793-4738-a63e-0d28a7f8f412",
   "metadata": {},
   "outputs": [],
   "source": [
    "kmeans_silhouette = silhouette_score(X_train_balanced_scaled, kmeans_labels)\n",
    "kmeans_davies_bouldin = davies_bouldin_score(X_train_balanced_scaled, kmeans_labels)\n",
    "# kmeans_wcss = kmeans_labels.inertia_  "
   ]
  },
  {
   "cell_type": "markdown",
   "id": "b373602c-c4f2-492e-88af-8ba6ad5898b1",
   "metadata": {},
   "source": [
    "### EVALUATION"
   ]
  },
  {
   "cell_type": "code",
   "execution_count": null,
   "id": "c4b6b600-20db-439b-8400-a71b40486342",
   "metadata": {},
   "outputs": [],
   "source": [
    "print(\"K-Means Clustering Results:\")\n",
    "print(f\"Silhouette Score: {kmeans_silhouette:.4f}\")\n",
    "print(f\"Davies-Bouldin Index: {kmeans_davies_bouldin:.4f}\")\n",
    "# print(f\"Within-Cluster Sum of Squares (WCSS): {kmeans_wcss:.4f}\")"
   ]
  },
  {
   "cell_type": "markdown",
   "id": "9af5bc8a-b381-4740-b6b6-7eb749c29eef",
   "metadata": {},
   "source": [
    "### DBSCAN CLUSTERING"
   ]
  },
  {
   "cell_type": "code",
   "execution_count": null,
   "id": "1289121a-a3e7-4256-b4ed-b39c91d78f61",
   "metadata": {},
   "outputs": [],
   "source": [
    "dbscan_model = DBSCAN(eps=0.5, min_samples=5)"
   ]
  },
  {
   "cell_type": "code",
   "execution_count": null,
   "id": "b9ecc36f-9242-4929-abbd-3ea6330fdf34",
   "metadata": {},
   "outputs": [],
   "source": [
    "dbscan_model"
   ]
  },
  {
   "cell_type": "markdown",
   "id": "62c05db9-caf2-405c-9413-194d561f32a2",
   "metadata": {},
   "source": [
    "### FIT THE MODEL"
   ]
  },
  {
   "cell_type": "code",
   "execution_count": null,
   "id": "e9fd7d6f-078b-481c-90ef-cdf6925013f5",
   "metadata": {},
   "outputs": [],
   "source": [
    "dbscan_labels = dbscan_model.fit_predict(X_train_balanced_scaled)"
   ]
  },
  {
   "cell_type": "code",
   "execution_count": null,
   "id": "0f5d81b7-272a-4423-8fd1-9d319a4b7842",
   "metadata": {},
   "outputs": [],
   "source": [
    "dbscan_labels"
   ]
  },
  {
   "cell_type": "markdown",
   "id": "2ab3c075-aecf-4d8f-8653-16e16fe5ee43",
   "metadata": {},
   "source": [
    "### PREDICTION"
   ]
  },
  {
   "cell_type": "code",
   "execution_count": null,
   "id": "b57c3bf0-a139-48c3-988a-5a56ad69a996",
   "metadata": {},
   "outputs": [],
   "source": [
    "dbscan_valid_labels = dbscan_labels[dbscan_labels != -1]\n",
    "if len(set(dbscan_valid_labels)) > 1:\n",
    "    dbscan_silhouette = silhouette_score(X_train_balanced_scaled[dbscan_labels != -1], dbscan_valid_labels)\n",
    "    dbscan_davies_bouldin = davies_bouldin_score(X_train_balanced_scaled[dbscan_labels != -1], dbscan_valid_labels)\n",
    "else:\n",
    "    dbscan_silhouette = -1\n",
    "    dbscan_davies_bouldin = -1"
   ]
  },
  {
   "cell_type": "markdown",
   "id": "673d83cd-f43c-44be-88b0-950ee58428c5",
   "metadata": {},
   "source": [
    "### EVALUATION"
   ]
  },
  {
   "cell_type": "code",
   "execution_count": null,
   "id": "4d15ffb7-0808-42c3-938e-4df0579ce8a8",
   "metadata": {},
   "outputs": [],
   "source": [
    "print(\"\\nDBSCAN Clustering Results:\")\n",
    "print(f\"Silhouette Score: {dbscan_silhouette:.4f}\")\n",
    "print(f\"Davies-Bouldin Index: {dbscan_davies_bouldin:.4f}\")"
   ]
  },
  {
   "cell_type": "markdown",
   "id": "83c62040-3bd1-40c0-b02c-8f6a9fc58bdb",
   "metadata": {},
   "source": [
    "### HIERARCHICAL CLUSTERING"
   ]
  },
  {
   "cell_type": "code",
   "execution_count": null,
   "id": "b1cd49b2-788d-4d5d-b695-279cc0be8c09",
   "metadata": {},
   "outputs": [],
   "source": [
    "sample_size = 5000\n",
    "X_train_sampled = X_train_balanced.sample(n=sample_size, random_state=42)\n",
    "X_train_sampled_scaled = scaler.transform(X_train_sampled)"
   ]
  },
  {
   "cell_type": "code",
   "execution_count": null,
   "id": "dd4ad7b7-e507-47d5-9624-81a826942baf",
   "metadata": {},
   "outputs": [],
   "source": [
    "hierarchical_model = AgglomerativeClustering(n_clusters=3)"
   ]
  },
  {
   "cell_type": "code",
   "execution_count": null,
   "id": "218357a6-5ea8-4743-a8cc-8e9a56d44741",
   "metadata": {},
   "outputs": [],
   "source": [
    "hierarchical_model"
   ]
  },
  {
   "cell_type": "markdown",
   "id": "e561b350-984a-42e4-8f51-88c04cae610a",
   "metadata": {},
   "source": [
    "### FIT THE MODEL"
   ]
  },
  {
   "cell_type": "code",
   "execution_count": null,
   "id": "aeb80647-31af-4b89-a477-d088137abbdb",
   "metadata": {},
   "outputs": [],
   "source": [
    "hierarchical_labels = hierarchical_model.fit_predict(X_train_sampled_scaled)"
   ]
  },
  {
   "cell_type": "code",
   "execution_count": null,
   "id": "12e28690-4afd-4145-b549-202b4a593096",
   "metadata": {},
   "outputs": [],
   "source": [
    "hierarchical_labels"
   ]
  },
  {
   "cell_type": "markdown",
   "id": "9d5985bb-c7e4-4c1e-ac84-a30a4c171e27",
   "metadata": {},
   "source": [
    "### PREDICTION"
   ]
  },
  {
   "cell_type": "code",
   "execution_count": null,
   "id": "81d8fce8-469b-4ba2-b1c9-ec3deb52f4be",
   "metadata": {},
   "outputs": [],
   "source": [
    "hierarchical_silhouette = silhouette_score(X_train_sampled_scaled, hierarchical_labels)\n",
    "hierarchical_davies_bouldin = davies_bouldin_score(X_train_sampled_scaled, hierarchical_labels)"
   ]
  },
  {
   "cell_type": "markdown",
   "id": "92ceeea3-3159-4b2b-9e98-32a4e711e22b",
   "metadata": {},
   "source": [
    "### EVALUATION"
   ]
  },
  {
   "cell_type": "code",
   "execution_count": null,
   "id": "197d41f0-e963-46ee-b347-f3e10339b9b7",
   "metadata": {},
   "outputs": [],
   "source": [
    "print(\"\\nHierarchical Clustering Results:\")\n",
    "print(f\"Silhouette Score: {hierarchical_silhouette:.4f}\")\n",
    "print(f\"Davies-Bouldin Index: {hierarchical_davies_bouldin:.4f}\")"
   ]
  },
  {
   "cell_type": "markdown",
   "id": "e3488b64-5bf0-4223-a7d6-92a1fefc414c",
   "metadata": {},
   "source": [
    "## PIPELINE DEVELOPEMNT"
   ]
  },
  {
   "cell_type": "markdown",
   "id": "b29f8625-6115-4825-aad9-7f0b3ad27c51",
   "metadata": {},
   "source": [
    "### CLASSIFICATION & REGRESSION PIPELINE"
   ]
  },
  {
   "cell_type": "code",
   "execution_count": null,
   "id": "79ef85cf-9213-4d23-bbd4-a188bc5fefb0",
   "metadata": {},
   "outputs": [],
   "source": [
    "classification_pipeline = Pipeline([\n",
    "    ('classifier', RandomForestClassifier(n_estimators=100, random_state=42))\n",
    "])"
   ]
  },
  {
   "cell_type": "code",
   "execution_count": null,
   "id": "aa4271bb-f548-474f-9cd2-bb87a2eaecbb",
   "metadata": {},
   "outputs": [],
   "source": [
    "classification_pipeline"
   ]
  },
  {
   "cell_type": "code",
   "execution_count": null,
   "id": "560b73a4-f5e2-4064-b5a7-4b2923c278bc",
   "metadata": {},
   "outputs": [],
   "source": [
    "regression_pipeline = Pipeline([\n",
    "    ('regressor', GradientBoostingRegressor(n_estimators=100, random_state=42))\n",
    "])"
   ]
  },
  {
   "cell_type": "code",
   "execution_count": null,
   "id": "3630f533-5a8a-401d-9449-c7c3a8b4513b",
   "metadata": {},
   "outputs": [],
   "source": [
    "regression_pipeline"
   ]
  },
  {
   "cell_type": "markdown",
   "id": "95684cc8-a9dd-43aa-a1f2-d791d92dc46b",
   "metadata": {},
   "source": [
    "### HYPERPARAMETER TUNING"
   ]
  },
  {
   "cell_type": "code",
   "execution_count": null,
   "id": "8a0985a3-bd04-4e55-8c89-ea885b67d3dc",
   "metadata": {},
   "outputs": [],
   "source": [
    "param_grid_classification = {\n",
    "    'classifier__n_estimators': [50, 100, 200],\n",
    "    'classifier__max_depth': [None, 10, 20]\n",
    "}\n",
    "\n",
    "classification_grid = GridSearchCV(classification_pipeline, param_grid_classification, cv=5, scoring='accuracy')"
   ]
  },
  {
   "cell_type": "code",
   "execution_count": null,
   "id": "f39219c1-2422-4562-a543-ccaff4d8d1e8",
   "metadata": {},
   "outputs": [],
   "source": [
    "classification_grid"
   ]
  },
  {
   "cell_type": "code",
   "execution_count": null,
   "id": "d2d67bce-d44b-419c-8dc9-1cced8829dbc",
   "metadata": {},
   "outputs": [],
   "source": [
    "param_grid_regression = {\n",
    "    'regressor__n_estimators': [50, 100, 200],\n",
    "    'regressor__learning_rate': [0.01, 0.1, 0.2]\n",
    "}\n",
    "\n",
    "regression_grid = GridSearchCV(regression_pipeline, param_grid_regression, cv=5, scoring='neg_mean_squared_error')"
   ]
  },
  {
   "cell_type": "code",
   "execution_count": null,
   "id": "1d3ec100-2a31-40d1-b2c4-244010e8ad6a",
   "metadata": {},
   "outputs": [],
   "source": [
    "regression_grid"
   ]
  },
  {
   "cell_type": "markdown",
   "id": "2f11c964-c15b-4a21-9edd-1eb5e0d4b9c3",
   "metadata": {},
   "source": [
    "### MODEL TRAINING AND EVALUATION"
   ]
  },
  {
   "cell_type": "code",
   "execution_count": null,
   "id": "396c4b2f-8e6f-4bc6-8c30-913296b4cc4c",
   "metadata": {},
   "outputs": [],
   "source": [
    "classification_grid.fit(X_train_balanced, y_train_balanced)"
   ]
  },
  {
   "cell_type": "code",
   "execution_count": null,
   "id": "0c1d5ad1-5944-421f-85a3-ac45fa7aa9b1",
   "metadata": {},
   "outputs": [],
   "source": [
    "y_pred_classification = classification_grid.best_estimator_.predict(X_test_scaled)"
   ]
  },
  {
   "cell_type": "code",
   "execution_count": null,
   "id": "2f8ea547-6b34-4bc4-b617-27c3c1ebf68a",
   "metadata": {},
   "outputs": [],
   "source": [
    "y_pred_classification"
   ]
  },
  {
   "cell_type": "code",
   "execution_count": null,
   "id": "b3eba70d-28da-4d5b-bfbf-4c20904ffb0d",
   "metadata": {},
   "outputs": [],
   "source": [
    "print(\"Best Classification Model:\", classification_grid.best_estimator_)\n",
    "print(\"Best Classification Score:\", classification_grid.best_score_)"
   ]
  },
  {
   "cell_type": "code",
   "execution_count": null,
   "id": "4d71d6a3-32a1-4716-a5eb-0cecf1e9439b",
   "metadata": {},
   "outputs": [],
   "source": [
    "regression_grid.fit(X_train_balanced, y_train_balanced)"
   ]
  },
  {
   "cell_type": "code",
   "execution_count": null,
   "id": "b3e2bba6-415b-4d0a-9665-e02ef592a288",
   "metadata": {},
   "outputs": [],
   "source": [
    "y_pred_regression = regression_grid.best_estimator_.predict(X_test_scaled)"
   ]
  },
  {
   "cell_type": "code",
   "execution_count": null,
   "id": "1499fad7-b1ed-4792-93f8-0d4b511ddacb",
   "metadata": {},
   "outputs": [],
   "source": [
    "y_pred_regression"
   ]
  },
  {
   "cell_type": "code",
   "execution_count": null,
   "id": "f63373a3-9dd5-436d-b538-51717c93a50a",
   "metadata": {},
   "outputs": [],
   "source": [
    "print(\"Best Regression Model:\", regression_grid.best_estimator_)\n",
    "print(\"Best Regression Score:\", regression_grid.best_score_)"
   ]
  }
 ],
 "metadata": {
  "kernelspec": {
   "display_name": "Python 3 (ipykernel)",
   "language": "python",
   "name": "python3"
  },
  "language_info": {
   "codemirror_mode": {
    "name": "ipython",
    "version": 3
   },
   "file_extension": ".py",
   "mimetype": "text/x-python",
   "name": "python",
   "nbconvert_exporter": "python",
   "pygments_lexer": "ipython3",
   "version": "3.12.9"
  }
 },
 "nbformat": 4,
 "nbformat_minor": 5
}
