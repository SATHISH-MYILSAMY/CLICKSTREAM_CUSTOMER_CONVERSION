{
 "cells": [
  {
   "cell_type": "markdown",
   "id": "ba234666-7c0d-4f8e-8148-6a3c3968bc15",
   "metadata": {},
   "source": [
    "## CUSTOMER CONVERSION ANALYSIS FOR ONLINE SHOPPING USING CLICKSTREAM DATA"
   ]
  },
  {
   "cell_type": "markdown",
   "id": "c49020ed-0b14-4cc2-82df-7a268aac8c29",
   "metadata": {},
   "source": [
    "## 1) DATA PREPROCESSING"
   ]
  },
  {
   "cell_type": "markdown",
   "id": "b5f782ee-7edb-4c8a-b2d2-04e1e45a141a",
   "metadata": {},
   "source": [
    "### IMPORT REQUIRED PACKAGES"
   ]
  },
  {
   "cell_type": "code",
   "execution_count": null,
   "id": "ada2e8a5-dcf9-4451-845c-1afb0d46ee8d",
   "metadata": {},
   "outputs": [],
   "source": [
    "import pandas as pd\n",
    "import numpy as np\n",
    "import matplotlib.pyplot as plt\n",
    "import seaborn as sns\n",
    "import plotly.express as px\n",
    "import plotly.subplots as sp\n",
    "import plotly.graph_objects as go\n",
    "import plotly.figure_factory as ff\n",
    "import xgboost as xgb\n",
    "import warnings\n",
    "warnings.filterwarnings(\"ignore\")\n",
    "\n",
    "from collections import Counter\n",
    "from sklearn.preprocessing import LabelEncoder, MinMaxScaler, StandardScaler\n",
    "from sklearn.model_selection import train_test_split, GridSearchCV\n",
    "from sklearn.ensemble import RandomForestClassifier, VotingClassifier\n",
    "from sklearn.metrics import accuracy_score, classification_report, average_precision_score, precision_recall_curve\n",
    "from imblearn.over_sampling import SMOTE, ADASYN\n",
    "from imblearn.under_sampling import RandomUnderSampler, NearMiss, TomekLinks\n",
    "from imblearn.pipeline import Pipeline\n",
    "from collections import Counter\n",
    "from imblearn.combine import SMOTETomek\n",
    "from sklearn.linear_model import LogisticRegression\n",
    "from sklearn.tree import DecisionTreeClassifier\n",
    "from xgboost import XGBClassifier\n",
    "from sklearn.neural_network import MLPClassifier"
   ]
  },
  {
   "cell_type": "markdown",
   "id": "5f7b79a8-887f-43cb-a1f9-bf2912218b87",
   "metadata": {},
   "source": [
    "### 1.1) LOAD THE DATASET"
   ]
  },
  {
   "cell_type": "code",
   "execution_count": null,
   "id": "bf456c0d-69c1-4a8e-aa9b-48d28b90569f",
   "metadata": {},
   "outputs": [],
   "source": [
    "train_df = pd.read_csv(\"train_data.csv\")\n",
    "\n",
    "test_df = pd.read_csv(\"test_data.csv\")"
   ]
  },
  {
   "cell_type": "code",
   "execution_count": null,
   "id": "47e38218-e731-47b1-8699-917b14db1c00",
   "metadata": {},
   "outputs": [],
   "source": [
    "train_df.head()"
   ]
  },
  {
   "cell_type": "code",
   "execution_count": null,
   "id": "50cb8042-3dc7-4ed5-92a6-71deffcf9116",
   "metadata": {},
   "outputs": [],
   "source": [
    "test_df.head()"
   ]
  },
  {
   "cell_type": "code",
   "execution_count": null,
   "id": "7d4fd8b4-5963-43e1-b666-015aaec1b6b5",
   "metadata": {},
   "outputs": [],
   "source": [
    "train_df.shape"
   ]
  },
  {
   "cell_type": "code",
   "execution_count": null,
   "id": "d07896a2-4d52-4117-9f43-91e2989b2248",
   "metadata": {},
   "outputs": [],
   "source": [
    "test_df.shape"
   ]
  },
  {
   "cell_type": "code",
   "execution_count": null,
   "id": "cec09581-8012-4f5e-9cbb-ca79d14e5191",
   "metadata": {},
   "outputs": [],
   "source": [
    "print(\"Columns in train_df:\", train_df.columns)\n",
    "print(\"Columns in test_df:\", test_df.columns)"
   ]
  },
  {
   "cell_type": "markdown",
   "id": "819b42dc-f663-467e-b5ff-45b4a6d2da6e",
   "metadata": {},
   "source": [
    "### 1.2) HANDLING MISSING VALUES"
   ]
  },
  {
   "cell_type": "code",
   "execution_count": null,
   "id": "f78740cb-0d75-4ef2-9cf9-64b638e978e9",
   "metadata": {},
   "outputs": [],
   "source": [
    "train_df.isnull().sum()"
   ]
  },
  {
   "cell_type": "code",
   "execution_count": null,
   "id": "2860d015-2cef-4c84-96a6-c47b87458d22",
   "metadata": {},
   "outputs": [],
   "source": [
    "test_df.isnull().sum()"
   ]
  },
  {
   "cell_type": "markdown",
   "id": "97eb384e-90f8-4b13-a443-5528fde67078",
   "metadata": {},
   "source": [
    "### IDENTIFY NON-NUMERIC COLUMNS"
   ]
  },
  {
   "cell_type": "code",
   "execution_count": null,
   "id": "189c6148-5365-48b0-b7ec-1c83d8b2df3b",
   "metadata": {},
   "outputs": [],
   "source": [
    "non_numeric_cols = train_df.select_dtypes(exclude=['number']).columns.tolist()\n",
    "print(\"Non-Numeric Columns:\", non_numeric_cols)"
   ]
  },
  {
   "cell_type": "markdown",
   "id": "aadc68f9-8030-4c63-b9c6-7bda97555a7a",
   "metadata": {},
   "source": [
    "### CONVERT CATEGORICAL COLUMNS TO NUMERICAL"
   ]
  },
  {
   "cell_type": "code",
   "execution_count": null,
   "id": "0a2a3519-f45d-4c28-806c-1cd45418e08c",
   "metadata": {},
   "outputs": [],
   "source": [
    "cat_cols = train_df.select_dtypes(include=['object']).columns.tolist()\n",
    "\n",
    "for col in cat_cols:\n",
    "    unique_categories = train_df[col].unique()\n",
    "    \n",
    "    category_map = {category: idx for idx, category in enumerate(unique_categories)}\n",
    "    \n",
    "    train_df[col] = train_df[col].map(category_map)\n",
    "    test_df[col] = test_df[col].map(category_map).fillna(-1).astype(int)  \n",
    "\n",
    "print(\"✅ All categorical values successfully converted to numeric!\")"
   ]
  },
  {
   "cell_type": "code",
   "execution_count": null,
   "id": "f2d96110-a70a-49d7-b894-43fd0483d480",
   "metadata": {},
   "outputs": [],
   "source": [
    "for col in train_df.columns:\n",
    "    if train_df[col].dtype == 'object': \n",
    "        print(f\"Column '{col}' has non-numeric values:\\n\", train_df[col].unique(), \"\\n\")"
   ]
  },
  {
   "cell_type": "code",
   "execution_count": null,
   "id": "f6bb1fec-ab63-45fb-8788-66a9a31ea954",
   "metadata": {},
   "outputs": [],
   "source": [
    "for col in train_df.columns:\n",
    "    if train_df[col].dtype == 'object':\n",
    "        le = LabelEncoder()\n",
    "        train_df[col] = le.fit_transform(train_df[col].astype(str))  \n",
    "        test_df[col] = le.transform(test_df[col].astype(str))  \n",
    "\n",
    "print(\"✅ Fixed remaining string columns using Label Encoding!\")"
   ]
  },
  {
   "cell_type": "code",
   "execution_count": null,
   "id": "bf0aa8db-7405-444c-907f-9c9a3f49eda9",
   "metadata": {},
   "outputs": [],
   "source": [
    "for col in train_df.columns:\n",
    "    if train_df[col].dtype == 'object': \n",
    "        unique_values = train_df[col].unique()\n",
    "        print(f\"Column '{col}' has non-numeric values: {unique_values[:10]}\") \n"
   ]
  },
  {
   "cell_type": "code",
   "execution_count": null,
   "id": "911d33a4-a085-4c35-9b9f-50b4459ef250",
   "metadata": {},
   "outputs": [],
   "source": [
    "train_df.columns"
   ]
  },
  {
   "cell_type": "markdown",
   "id": "4b14d155-dc41-40a6-8db7-57622345a184",
   "metadata": {},
   "source": [
    "### 1.3) FEATURE ENCODING"
   ]
  },
  {
   "cell_type": "markdown",
   "id": "380a24d7-ed87-4a13-b3c2-3125fc4ad286",
   "metadata": {},
   "source": [
    "#### IDENTIFY CATEGORICAL COLUMNS"
   ]
  },
  {
   "cell_type": "code",
   "execution_count": null,
   "id": "9d4467a3-af04-45f1-b48b-f7ffd47ec0bb",
   "metadata": {},
   "outputs": [],
   "source": [
    "cat_cols = train_df.select_dtypes(include=['object']).columns.tolist()\n",
    "print(\"Categorical Columns:\", cat_cols)"
   ]
  },
  {
   "cell_type": "markdown",
   "id": "91fac35a-1ed9-4d41-9e0d-4a4acc7a45d3",
   "metadata": {},
   "source": [
    "### APPLY LABEL ENCODING"
   ]
  },
  {
   "cell_type": "code",
   "execution_count": null,
   "id": "7124e775-553d-4073-90c2-5a0eb5c28a95",
   "metadata": {},
   "outputs": [],
   "source": [
    "problematic_col = \"page2_clothing_model\" \n",
    "\n",
    "le = LabelEncoder()\n",
    "train_df[problematic_col] = le.fit_transform(train_df[problematic_col].astype(str))\n",
    "\n",
    "test_df[problematic_col] = test_df[problematic_col].astype(str).map(lambda x: le.transform([x])[0] if x in le.classes_ else -1)\n",
    "\n",
    "print(f\"✅ Successfully handled unseen labels in '{problematic_col}'!\")"
   ]
  },
  {
   "cell_type": "markdown",
   "id": "3ed9925d-dd84-47ef-bc80-1dcfad94a121",
   "metadata": {},
   "source": [
    "### 1.4) SCALING & NORMALIZATION - APPLY MIN-MAX SCALER"
   ]
  },
  {
   "cell_type": "code",
   "execution_count": null,
   "id": "b17e3699-93a7-4d80-aef6-baea51a6edc2",
   "metadata": {},
   "outputs": [],
   "source": [
    "from sklearn.preprocessing import MinMaxScaler\n",
    "\n",
    "# Select only numerical columns common in both train and test\n",
    "num_cols = list(set(train_df.select_dtypes(include=['number']).columns) & set(test_df.select_dtypes(include=['number']).columns))\n",
    "\n",
    "# Apply MinMaxScaler\n",
    "scaler = MinMaxScaler()\n",
    "train_df[num_cols] = scaler.fit_transform(train_df[num_cols])\n",
    "test_df[num_cols] = scaler.transform(test_df[num_cols])\n",
    "\n",
    "print(\"✅ Feature Scaling Applied Successfully!\")\n"
   ]
  },
  {
   "cell_type": "markdown",
   "id": "d00f8f4a-db04-4923-aba9-526808cacd0c",
   "metadata": {},
   "source": [
    "## 2) EXPLORATORY DATA ANALYSIS"
   ]
  },
  {
   "cell_type": "markdown",
   "id": "574ec696-0f4a-491c-b1b5-3b49ade7252c",
   "metadata": {},
   "source": [
    "### 2.1) VISUALIZATIONS"
   ]
  },
  {
   "cell_type": "markdown",
   "id": "2e71c3bf-73e1-4d2b-87d3-d3597ad248dd",
   "metadata": {},
   "source": [
    "### HISTOGRAM FOR NUMERICAL FEATURES"
   ]
  },
  {
   "cell_type": "code",
   "execution_count": null,
   "id": "9b5ba1f1-39b3-49d3-bbec-bc0a4a9d034c",
   "metadata": {},
   "outputs": [],
   "source": [
    "colors = ['orange', 'green', 'red', 'purple', 'blue', 'cyan']\n",
    "\n",
    "numerical_cols = ['year', 'month', 'day', 'price', 'price_2', 'page']\n",
    "\n",
    "fig = sp.make_subplots(rows=2, cols=3, subplot_titles=numerical_cols)\n",
    "\n",
    "for i, col in enumerate(numerical_cols):\n",
    "    data = train_df[col].dropna()\n",
    "    \n",
    "    trace = go.Histogram(\n",
    "        x=data, \n",
    "        nbinsx=30, \n",
    "        marker_color=colors[i], \n",
    "        opacity=0.75  \n",
    "    )\n",
    "    \n",
    "    fig.add_trace(trace, row=(i // 3) + 1, col=(i % 3) + 1)\n",
    "\n",
    "fig.update_layout(\n",
    "    title_text=\"📊 Feature Distributions (Histogram)\",\n",
    "    height=700, width=1000, showlegend=False,\n",
    "    margin=dict(l=50, r=50, t=50, b=50),\n",
    "    plot_bgcolor=\"white\",\n",
    "    bargap=0.2 \n",
    ")\n",
    "\n",
    "fig.show()"
   ]
  },
  {
   "cell_type": "markdown",
   "id": "0690cf0e-79b3-4af8-8f73-6019168457d8",
   "metadata": {},
   "source": [
    "### BAR CHART FOR CATEGORICAL FEATURE DISTRIBUTIONS"
   ]
  },
  {
   "cell_type": "code",
   "execution_count": null,
   "id": "b8b6cbb1-1550-48b0-a8f3-f023be943ed3",
   "metadata": {},
   "outputs": [],
   "source": [
    "colors = ['blue', 'green', 'red', 'purple', 'orange', 'cyan']\n",
    "\n",
    "categorical_cols = ['country', 'page1_main_category', 'page2_clothing_model', 'colour', 'location', 'model_photography']\n",
    "\n",
    "fig = sp.make_subplots(rows=2, cols=3, subplot_titles=categorical_cols)\n",
    "\n",
    "for i, col in enumerate(categorical_cols):\n",
    "    value_counts = train_df[col].fillna(\"Unknown\").value_counts().nlargest(10)\n",
    "    \n",
    "    trace = go.Bar(\n",
    "        x=value_counts.index, \n",
    "        y=value_counts.values, \n",
    "        marker_color=colors[i % len(colors)]\n",
    "    )\n",
    "    \n",
    "    fig.add_trace(trace, row=(i // 3) + 1, col=(i % 3) + 1)\n",
    "\n",
    "fig.update_layout(\n",
    "    title_text=\"📊 Categorical Feature Distributions (Top 10)\",\n",
    "    height=750, width=1100, showlegend=False,\n",
    "    margin=dict(l=50, r=50, t=50, b=50), \n",
    "    plot_bgcolor=\"white\"\n",
    ")\n",
    "\n",
    "fig.show()"
   ]
  },
  {
   "cell_type": "markdown",
   "id": "db264b3d-df88-4ee9-90b6-b8328e920223",
   "metadata": {},
   "source": [
    "### INTERACTIVE PAIR PLOTS FOR NUMERICAL FEATURES"
   ]
  },
  {
   "cell_type": "code",
   "execution_count": null,
   "id": "4ec314c5-bb1d-4ebb-a159-9882f2ebb2ea",
   "metadata": {},
   "outputs": [],
   "source": [
    "numerical_cols = ['year', 'month', 'day', 'price', 'price_2', 'page']\n",
    "\n",
    "fig = px.scatter_matrix(train_df, dimensions=numerical_cols, color=\"order\",\n",
    "                        title=\"🔍 Pair Plot of Numerical Features\",\n",
    "                        height=900, width=1100,\n",
    "                        color_continuous_scale=px.colors.sequential.Viridis)\n",
    "\n",
    "fig.update_layout(margin=dict(l=60, r=60, t=60, b=60),\n",
    "                  plot_bgcolor=\"white\",\n",
    "                  font=dict(size=12))\n",
    "\n",
    "fig.show()"
   ]
  },
  {
   "cell_type": "markdown",
   "id": "a7fe5664-b5e5-4f7f-b5fb-c0c8cbd8e125",
   "metadata": {},
   "source": [
    "### 2.2) SESSION ANALYSIS"
   ]
  },
  {
   "cell_type": "markdown",
   "id": "ab846c64-3fff-4143-865e-a29eab27dfc9",
   "metadata": {},
   "source": [
    "### PAGE VIEWS & BOUNCE RATES"
   ]
  },
  {
   "cell_type": "code",
   "execution_count": null,
   "id": "67046bcf-06af-441a-932e-009d997519d1",
   "metadata": {},
   "outputs": [],
   "source": [
    "train_df[\"session_duration\"] = train_df.groupby(\"session_id\")[\"page\"].transform(\"count\") \n",
    "\n",
    "fig1 = px.histogram(train_df, x=\"session_duration\", nbins=30, color_discrete_sequence=[\"indigo\"])\n",
    "fig1.update_layout(title=\"📊 Session Duration Distribution\", xaxis_title=\"Pages Viewed Per Session\", yaxis_title=\"Count\")\n",
    "\n",
    "page_views = train_df.groupby(\"session_id\")[\"page\"].count().reset_index()\n",
    "fig2 = px.bar(page_views.head(50), x=\"session_id\", y=\"page\", color=\"page\",\n",
    "              color_continuous_scale=\"Blues\", title=\"📌 Page Views Per Session\")\n",
    "fig2.update_layout(xaxis_title=\"Session ID (Top 50)\", yaxis_title=\"Number of Pages Viewed\", margin=dict(l=80, r=80, t=50, b=50))\n",
    "\n",
    "bounce_sessions = page_views[page_views[\"page\"] == 1]  \n",
    "bounce_rate = (len(bounce_sessions) / len(page_views)) * 100 \n",
    "fig3 = px.pie(names=[\"Bounced Sessions\", \"Non-Bounced Sessions\"], values=[len(bounce_sessions), len(page_views) - len(bounce_sessions)],\n",
    "              title=f\"💡 Bounce Rate: {bounce_rate:.2f}%\", color_discrete_sequence=[\"red\", \"green\"])\n",
    "\n",
    "fig1.show()\n",
    "fig2.show()\n",
    "fig3.show()"
   ]
  },
  {
   "cell_type": "markdown",
   "id": "cb69f580-6921-4f53-9856-5c545c30f835",
   "metadata": {},
   "source": [
    "### 2.3) CORRELATION ANALYSIS"
   ]
  },
  {
   "cell_type": "code",
   "execution_count": null,
   "id": "931abb97-5892-412d-8b3f-87ebe07eaffd",
   "metadata": {},
   "outputs": [],
   "source": [
    "corr_matrix = train_df.select_dtypes(include=np.number).corr()\n",
    "\n",
    "top_corr_features = corr_matrix.unstack().abs().sort_values(ascending=False)\n",
    "top_corr_features = top_corr_features[top_corr_features < 1]  \n",
    "top_50_features = top_corr_features.index[:50] \n",
    "\n",
    "filtered_corr_matrix = corr_matrix.loc[list(set([i[0] for i in top_50_features] + [i[1] for i in top_50_features])),\n",
    "                                       list(set([i[0] for i in top_50_features] + [i[1] for i in top_50_features]))]\n",
    "\n",
    "fig = ff.create_annotated_heatmap(\n",
    "    z=filtered_corr_matrix.values,\n",
    "    x=list(filtered_corr_matrix.columns),\n",
    "    y=list(filtered_corr_matrix.index),\n",
    "    colorscale='Blues',\n",
    "    showscale=True,\n",
    "    annotation_text=np.round(filtered_corr_matrix.values, 2) \n",
    ")\n",
    "\n",
    "fig.update_layout(\n",
    "    # title=\"Top 50 Most Correlated Features - Heatmap\",\n",
    "    margin=dict(l=100, r=100, t=50, b=50),\n",
    "    width=900, height=800\n",
    ")\n",
    "\n",
    "fig.show()"
   ]
  },
  {
   "cell_type": "markdown",
   "id": "45bab742-38ac-4e9f-90d8-d7ef38588dfe",
   "metadata": {},
   "source": [
    "### 2.4) TIME-BASED ANALYSIS - HOUR & DAY TRENDS"
   ]
  },
  {
   "cell_type": "code",
   "execution_count": null,
   "id": "77762abf-472f-41a8-88a8-afa1e6648c5d",
   "metadata": {},
   "outputs": [],
   "source": [
    "train_df['hour'] = np.random.randint(0, 24, size=len(train_df))  \n",
    "train_df['day_of_week'] = np.random.randint(0, 7, size=len(train_df))\n",
    "\n",
    "# Line chart for sessions per hour\n",
    "fig = px.line(train_df.groupby('hour').size().reset_index(name=\"session_count\"),\n",
    "              x=\"hour\", y=\"session_count\",\n",
    "              title=\"User Activity Over Different Hours\",\n",
    "              markers=True, line_shape=\"spline\",\n",
    "              template=\"plotly_white\")\n",
    "\n",
    "fig.update_traces(line=dict(color=\"firebrick\", width=3))\n",
    "fig.show()"
   ]
  },
  {
   "cell_type": "markdown",
   "id": "e8e2a605-5f30-4d29-9a8d-0996fc7d09d4",
   "metadata": {},
   "source": [
    "## 3) FEATURE ENGINEERING"
   ]
  },
  {
   "cell_type": "markdown",
   "id": "d8dd32bb-d720-4453-bcdd-49d4f5ae8261",
   "metadata": {},
   "source": [
    "### TRAIN TEST SPLIT"
   ]
  },
  {
   "cell_type": "code",
   "execution_count": null,
   "id": "7ce0c86a-1574-452f-8940-38eac00335ae",
   "metadata": {},
   "outputs": [],
   "source": [
    "train_df['converted'] = train_df['page'].apply(lambda x: 1 if x >= 0.75 else 0)\n",
    "test_df['converted'] = test_df['page'].apply(lambda x: 1 if x >= 0.75 else 0)"
   ]
  },
  {
   "cell_type": "code",
   "execution_count": null,
   "id": "4990f38a-52ca-4340-ba60-eedece8e3c52",
   "metadata": {},
   "outputs": [],
   "source": [
    "train_df['converted']"
   ]
  },
  {
   "cell_type": "code",
   "execution_count": null,
   "id": "fda135cc-5d36-4774-9c58-5781760357f1",
   "metadata": {},
   "outputs": [],
   "source": [
    "test_df['converted']"
   ]
  },
  {
   "cell_type": "code",
   "execution_count": null,
   "id": "6e0a1224-4bd3-4c27-b59c-12dd1a73bf53",
   "metadata": {},
   "outputs": [],
   "source": [
    "train_df['session_length'] = train_df.groupby('session_id')['order'].transform('count')\n",
    "test_df['session_length'] = test_df.groupby('session_id')['order'].transform('count')"
   ]
  },
  {
   "cell_type": "code",
   "execution_count": null,
   "id": "eadfd193-186f-4c5a-a184-a88e199bb79f",
   "metadata": {},
   "outputs": [],
   "source": [
    "train_df['session_length']"
   ]
  },
  {
   "cell_type": "code",
   "execution_count": null,
   "id": "5c1a9a45-364a-4de5-8af7-5ede43556ae1",
   "metadata": {},
   "outputs": [],
   "source": [
    "test_df['session_length']"
   ]
  },
  {
   "cell_type": "code",
   "execution_count": null,
   "id": "4ebb1589-03a4-4379-a879-7e110f79168e",
   "metadata": {},
   "outputs": [],
   "source": [
    "train_df['avg_price_viewed'] = train_df.groupby('session_id')['price'].transform('mean')\n",
    "test_df['avg_price_viewed'] = test_df.groupby('session_id')['price'].transform('mean')"
   ]
  },
  {
   "cell_type": "code",
   "execution_count": null,
   "id": "daf9aa45-ef30-41ca-b70f-0831f7414338",
   "metadata": {},
   "outputs": [],
   "source": [
    "train_df['avg_price_viewed']"
   ]
  },
  {
   "cell_type": "code",
   "execution_count": null,
   "id": "41ca2e07-0a71-452a-be81-c29d5a694960",
   "metadata": {},
   "outputs": [],
   "source": [
    "test_df['avg_price_viewed']"
   ]
  },
  {
   "cell_type": "code",
   "execution_count": null,
   "id": "72eaab36-47ae-41bd-b836-af946946f5fc",
   "metadata": {},
   "outputs": [],
   "source": [
    "train_df['unique_categories'] = train_df.groupby('session_id')['page1_main_category'].transform('nunique')\n",
    "test_df['unique_categories'] = test_df.groupby('session_id')['page1_main_category'].transform('nunique')"
   ]
  },
  {
   "cell_type": "code",
   "execution_count": null,
   "id": "dd14d366-d89c-4c74-98f0-b26053ad4a39",
   "metadata": {},
   "outputs": [],
   "source": [
    "train_df['unique_categories']"
   ]
  },
  {
   "cell_type": "code",
   "execution_count": null,
   "id": "fa160449-fb17-4bea-b855-172beefedabd",
   "metadata": {},
   "outputs": [],
   "source": [
    "test_df['unique_categories']"
   ]
  },
  {
   "cell_type": "code",
   "execution_count": null,
   "id": "2b3e4d6c-6221-45ce-816e-f2160a5df08d",
   "metadata": {},
   "outputs": [],
   "source": [
    "train_df['session_price_interaction'] = train_df['session_length'] * train_df['avg_price_viewed']\n",
    "test_df['session_price_interaction'] = test_df['session_length'] * test_df['avg_price_viewed']"
   ]
  },
  {
   "cell_type": "code",
   "execution_count": null,
   "id": "1af4639f-cd1c-44d2-8141-a13cbdf1ea9a",
   "metadata": {},
   "outputs": [],
   "source": [
    "train_df['session_price_interaction']"
   ]
  },
  {
   "cell_type": "code",
   "execution_count": null,
   "id": "18e3ce41-765f-48e9-9db4-14bc93f9b885",
   "metadata": {},
   "outputs": [],
   "source": [
    "test_df['session_price_interaction']"
   ]
  },
  {
   "cell_type": "code",
   "execution_count": null,
   "id": "44ebe354-c74e-4004-8a36-8f3a47e79d08",
   "metadata": {},
   "outputs": [],
   "source": [
    "print(\"Class Distribution in Training Data:\")\n",
    "print(train_df['converted'].value_counts(normalize=True))"
   ]
  },
  {
   "cell_type": "markdown",
   "id": "feb416c3-ddbb-41b9-bb83-16549112481d",
   "metadata": {},
   "source": [
    "### SELECTING FEATURES AND TARGET"
   ]
  },
  {
   "cell_type": "code",
   "execution_count": null,
   "id": "59c654c4-09de-4b81-843e-16d47f9e1b46",
   "metadata": {},
   "outputs": [],
   "source": [
    "features = ['session_length', 'avg_price_viewed', 'unique_categories', 'session_price_interaction']\n",
    "target = 'converted'\n",
    "X_train, y_train = train_df[features], train_df[target]\n",
    "X_test, y_test = test_df[features], test_df[target]"
   ]
  },
  {
   "cell_type": "code",
   "execution_count": null,
   "id": "f3cab2b6-9095-45af-b8f4-07c6c33117ff",
   "metadata": {},
   "outputs": [],
   "source": [
    "X_train"
   ]
  },
  {
   "cell_type": "code",
   "execution_count": null,
   "id": "672327aa-379a-4f67-961c-26eee13504f7",
   "metadata": {},
   "outputs": [],
   "source": [
    "X_test"
   ]
  },
  {
   "cell_type": "code",
   "execution_count": null,
   "id": "ccbda4a1-915e-478c-a584-4110ce440b42",
   "metadata": {},
   "outputs": [],
   "source": [
    "y_train"
   ]
  },
  {
   "cell_type": "code",
   "execution_count": null,
   "id": "f1d68ea6-1890-4a8a-9e6f-a63a5cea67ee",
   "metadata": {},
   "outputs": [],
   "source": [
    "y_test"
   ]
  },
  {
   "cell_type": "markdown",
   "id": "27fec721-fbf4-47eb-af95-6a15c3ef8bea",
   "metadata": {},
   "source": [
    "## 4) BALANCING TECHNIQUES"
   ]
  },
  {
   "cell_type": "markdown",
   "id": "49eb6d7d-e453-4410-a3cc-b4f900a383a8",
   "metadata": {},
   "source": [
    "### 4.1) IDENTIFY IMBALANCE"
   ]
  },
  {
   "cell_type": "code",
   "execution_count": null,
   "id": "69d6b453-5088-41da-b4ef-21ba7ccf3eb4",
   "metadata": {},
   "outputs": [],
   "source": [
    "print(\"Original class distribution:\", Counter(y_train))"
   ]
  },
  {
   "cell_type": "markdown",
   "id": "2a26309f-295d-4a91-9436-644b6a4f108c",
   "metadata": {},
   "source": [
    "### 4.2) TECHNIQUES FOR BALANCING"
   ]
  },
  {
   "cell_type": "markdown",
   "id": "3f3cab14-3daf-4d86-9086-4d542a08fd63",
   "metadata": {},
   "source": [
    "### OVERSAMPLING WITH SMOTE"
   ]
  },
  {
   "cell_type": "code",
   "execution_count": null,
   "id": "97d6a177-a5a8-4c3b-b6b7-252e40346f15",
   "metadata": {},
   "outputs": [],
   "source": [
    "y_train = y_train[:len(X_train)]"
   ]
  },
  {
   "cell_type": "code",
   "execution_count": null,
   "id": "4b294ad2-2818-493e-a52e-267999296191",
   "metadata": {},
   "outputs": [],
   "source": [
    "y_train"
   ]
  },
  {
   "cell_type": "markdown",
   "id": "6e625df5-ae86-4f98-a085-d370db48cd38",
   "metadata": {},
   "source": [
    "### APPLY SMOTE FOR OVERSAMPLING"
   ]
  },
  {
   "cell_type": "code",
   "execution_count": null,
   "id": "5b8dda36-8170-4259-96ee-d8c9510c98f6",
   "metadata": {},
   "outputs": [],
   "source": [
    "smote = SMOTE(sampling_strategy=0.4, random_state=42)\n",
    "X_train_smote, y_train_smote = smote.fit_resample(X_train, y_train)\n",
    "\n",
    "print(\"After SMOTE:\", Counter(y_train_smote))"
   ]
  },
  {
   "cell_type": "markdown",
   "id": "532475a3-e93f-4659-b1bf-aff53ba1b602",
   "metadata": {},
   "source": [
    "### UNDERSAMPLING THE MAJOR CLASS"
   ]
  },
  {
   "cell_type": "code",
   "execution_count": null,
   "id": "fdd94ebe-2cd3-4aaf-aa26-99544bf06c3d",
   "metadata": {},
   "outputs": [],
   "source": [
    "undersample = RandomUnderSampler(sampling_strategy=0.6, random_state=42)\n",
    "X_train_balanced, y_train_balanced = undersample.fit_resample(X_train_smote, y_train_smote)\n",
    "\n",
    "print(\"Final balanced class distribution:\", Counter(y_train_balanced))"
   ]
  },
  {
   "cell_type": "code",
   "execution_count": null,
   "id": "3e53f59d-770f-466a-8906-70abba33c568",
   "metadata": {},
   "outputs": [],
   "source": [
    "print(\"X_train shape:\", X_train.shape)\n",
    "print(\"y_train shape:\", y_train.shape)\n"
   ]
  },
  {
   "cell_type": "markdown",
   "id": "6fc0c191-1351-4ab7-b59c-b2807d7d3670",
   "metadata": {},
   "source": [
    "### FEATURE SCALING"
   ]
  },
  {
   "cell_type": "code",
   "execution_count": null,
   "id": "0b1991b0-186c-487e-9d2c-c8473933d76d",
   "metadata": {},
   "outputs": [],
   "source": [
    "scaler = StandardScaler()"
   ]
  },
  {
   "cell_type": "code",
   "execution_count": null,
   "id": "4e32df92-856f-406a-879a-2116ba2c642f",
   "metadata": {},
   "outputs": [],
   "source": [
    "scaler"
   ]
  },
  {
   "cell_type": "code",
   "execution_count": null,
   "id": "d936afb3-7260-4a1b-b647-3a99acfccd56",
   "metadata": {},
   "outputs": [],
   "source": [
    "X_train_scaled = scaler.fit_transform(X_train_balanced)"
   ]
  },
  {
   "cell_type": "code",
   "execution_count": null,
   "id": "3e50ce98-5887-47ae-8915-3b3503b252af",
   "metadata": {},
   "outputs": [],
   "source": [
    "X_train_scaled"
   ]
  },
  {
   "cell_type": "code",
   "execution_count": null,
   "id": "1686c34b-026e-46e8-ac60-e70bcef3d430",
   "metadata": {},
   "outputs": [],
   "source": [
    "X_test_scaled = scaler.transform(X_test)"
   ]
  },
  {
   "cell_type": "code",
   "execution_count": null,
   "id": "796cde45-ddb0-48a1-b064-1b5ead33975b",
   "metadata": {},
   "outputs": [],
   "source": [
    "X_test_scaled"
   ]
  },
  {
   "cell_type": "markdown",
   "id": "9164ed77-25e4-4271-9094-f9936b651ce3",
   "metadata": {},
   "source": [
    "## 5) MODEL BUILDING - SUPERVISED LEARNING MODELS"
   ]
  },
  {
   "cell_type": "markdown",
   "id": "48ba2591-edc6-4a5b-813e-cda4fc079734",
   "metadata": {},
   "source": [
    "### LOGISTIC REGRESSION"
   ]
  },
  {
   "cell_type": "markdown",
   "id": "4d2fe97d-a47b-45cd-9fa2-a226f4e9eb92",
   "metadata": {},
   "source": [
    "### TRAIN THE MODEL"
   ]
  },
  {
   "cell_type": "code",
   "execution_count": null,
   "id": "548d5bc0-837b-4d7e-b4cd-3423a67e6bf8",
   "metadata": {},
   "outputs": [],
   "source": [
    "print(\"Training data class distribution:\", Counter(y_train_balanced))\n",
    "print(\"Testing data class distribution:\", Counter(y_test))"
   ]
  },
  {
   "cell_type": "code",
   "execution_count": null,
   "id": "9dd66c38-116e-42eb-b12a-8a9a6658bd7e",
   "metadata": {},
   "outputs": [],
   "source": [
    "log_reg = LogisticRegression(random_state=77, class_weight = \"balanced\")"
   ]
  },
  {
   "cell_type": "code",
   "execution_count": null,
   "id": "7056b990-b02a-4c42-9163-cf7f67d32ecf",
   "metadata": {},
   "outputs": [],
   "source": [
    "log_reg"
   ]
  },
  {
   "cell_type": "code",
   "execution_count": null,
   "id": "4ae8d050-b278-42df-95b0-3c931e50a87d",
   "metadata": {},
   "outputs": [],
   "source": [
    "log_reg.fit(X_train_scaled, y_train_balanced) "
   ]
  },
  {
   "cell_type": "markdown",
   "id": "f61c91a6-d82b-4a7d-892c-68a3e705b2c9",
   "metadata": {},
   "source": [
    "### PREDICTION"
   ]
  },
  {
   "cell_type": "code",
   "execution_count": null,
   "id": "07f3d7ab-d98b-48f9-abf7-ff675006363d",
   "metadata": {},
   "outputs": [],
   "source": [
    "y_prob_lr = log_reg.predict_proba(X_test_scaled)[:, 1]  "
   ]
  },
  {
   "cell_type": "code",
   "execution_count": null,
   "id": "9a47e714-33ad-4061-bc8c-830b5336aeb5",
   "metadata": {},
   "outputs": [],
   "source": [
    "y_prob_lr"
   ]
  },
  {
   "cell_type": "markdown",
   "id": "7b4b4800-132b-4502-939b-b23ca99ad9b9",
   "metadata": {},
   "source": [
    "### ADJUST THRESHOLD"
   ]
  },
  {
   "cell_type": "code",
   "execution_count": null,
   "id": "a068f68b-6374-41a9-a3b5-ff05b24d77af",
   "metadata": {},
   "outputs": [],
   "source": [
    "y_pred_lr = (y_prob_lr > 0.5).astype(int)  "
   ]
  },
  {
   "cell_type": "code",
   "execution_count": null,
   "id": "47dae724-35a8-4251-9702-a2a873f9c3ff",
   "metadata": {},
   "outputs": [],
   "source": [
    "y_pred_lr"
   ]
  },
  {
   "cell_type": "code",
   "execution_count": null,
   "id": "a6df5c0d-74d5-4659-80a5-0216a6a72a16",
   "metadata": {},
   "outputs": [],
   "source": [
    "print(\"Accuracy:\", accuracy_score(y_test, y_pred_lr))\n",
    "print(classification_report(y_test, y_pred_lr))"
   ]
  },
  {
   "cell_type": "markdown",
   "id": "4969ee69-1a8d-42f1-9a40-aa6eaadb1d01",
   "metadata": {},
   "source": [
    "### DECISION TREE CLASSIFIER"
   ]
  },
  {
   "cell_type": "code",
   "execution_count": null,
   "id": "d91f0c58-3613-45f4-bfb7-83736a4e2d72",
   "metadata": {},
   "outputs": [],
   "source": [
    "param_grid = {\n",
    "    'max_depth': [5, 10, 15, 20],  \n",
    "    'min_samples_split': [10, 20, 50],  \n",
    "    'class_weight': [\"balanced\"]\n",
    "}"
   ]
  },
  {
   "cell_type": "code",
   "execution_count": null,
   "id": "02a428d1-ff73-404b-86d3-0df62ea45cbc",
   "metadata": {},
   "outputs": [],
   "source": [
    "dt_model = DecisionTreeClassifier(random_state=42)"
   ]
  },
  {
   "cell_type": "code",
   "execution_count": null,
   "id": "a738b59d-2f83-497a-9bb8-8b6e798e0e65",
   "metadata": {},
   "outputs": [],
   "source": [
    "dt_model"
   ]
  },
  {
   "cell_type": "markdown",
   "id": "39cfd2c8-07fa-4afd-931e-86ba4a198616",
   "metadata": {},
   "source": [
    "### GRID SEARCH"
   ]
  },
  {
   "cell_type": "code",
   "execution_count": null,
   "id": "0c6cd092-cc62-4a67-ab19-7a21802b825d",
   "metadata": {},
   "outputs": [],
   "source": [
    "grid_search_dt = GridSearchCV(dt_model, param_grid, scoring='f1', cv=3, verbose=2, n_jobs=-1)"
   ]
  },
  {
   "cell_type": "code",
   "execution_count": null,
   "id": "f4d946d1-b552-473f-900f-2ade2de7b764",
   "metadata": {},
   "outputs": [],
   "source": [
    "grid_search_dt"
   ]
  },
  {
   "cell_type": "code",
   "execution_count": null,
   "id": "ebbe515a-8c22-4eea-b192-dcb9e7a6d11a",
   "metadata": {},
   "outputs": [],
   "source": [
    "grid_search_dt.fit(X_train_balanced, y_train_balanced)"
   ]
  },
  {
   "cell_type": "code",
   "execution_count": null,
   "id": "10c2a30d-9bb4-49cd-8430-02295a6c8304",
   "metadata": {},
   "outputs": [],
   "source": [
    "best_dt = grid_search_dt.best_estimator_"
   ]
  },
  {
   "cell_type": "code",
   "execution_count": null,
   "id": "d8f6b0de-ed90-4a19-ae7e-09012d453d09",
   "metadata": {},
   "outputs": [],
   "source": [
    "best_dt"
   ]
  },
  {
   "cell_type": "markdown",
   "id": "bbbf86e7-8ca0-48c8-aefa-30f50bd071c3",
   "metadata": {},
   "source": [
    "### PREDICTION"
   ]
  },
  {
   "cell_type": "code",
   "execution_count": null,
   "id": "c9b8a49b-a865-400e-b053-44012974eab5",
   "metadata": {},
   "outputs": [],
   "source": [
    "y_pred_dt_tuned = best_dt.predict(X_test_scaled)"
   ]
  },
  {
   "cell_type": "code",
   "execution_count": null,
   "id": "50b3fab4-22f1-41b4-a3f9-202dc62ff8a0",
   "metadata": {},
   "outputs": [],
   "source": [
    "y_pred_dt_tuned"
   ]
  },
  {
   "cell_type": "markdown",
   "id": "7af94d1e-3b32-417b-b722-baa2737f9f27",
   "metadata": {},
   "source": [
    "### EVALUATION"
   ]
  },
  {
   "cell_type": "code",
   "execution_count": null,
   "id": "b8fd82bc-fd56-4cf5-81ea-b5a6ffe08e7b",
   "metadata": {},
   "outputs": [],
   "source": [
    "print(\"Best Parameters:\", grid_search_dt.best_params_)\n",
    "print(classification_report(y_test, y_pred_dt_tuned))"
   ]
  },
  {
   "cell_type": "markdown",
   "id": "b38e36ac-b399-4e2b-b290-c30ea6d4ce70",
   "metadata": {},
   "source": [
    "### RANDOM FOREST CLASSIFIER"
   ]
  },
  {
   "cell_type": "code",
   "execution_count": null,
   "id": "b4a62ab0-bf1c-4f5e-87fb-ae2720ca7284",
   "metadata": {},
   "outputs": [],
   "source": [
    "rf_model = RandomForestClassifier(\n",
    "    n_estimators=500, \n",
    "    max_depth=20, \n",
    "    min_samples_split=10, \n",
    "    min_samples_leaf=5,  \n",
    "    class_weight={0: 1, 1: 5},  \n",
    "    random_state=42, \n",
    "    n_jobs=-1\n",
    ")"
   ]
  },
  {
   "cell_type": "code",
   "execution_count": null,
   "id": "0aec356f-c4a5-41ab-863f-83487746edcd",
   "metadata": {},
   "outputs": [],
   "source": [
    "rf_model"
   ]
  },
  {
   "cell_type": "markdown",
   "id": "a78d5e91-2f60-4b72-b2de-a4b3478d357a",
   "metadata": {},
   "source": [
    "### TRAIN THE MODEL"
   ]
  },
  {
   "cell_type": "code",
   "execution_count": null,
   "id": "71161072-3165-4866-b7d1-afc59bafb4f6",
   "metadata": {},
   "outputs": [],
   "source": [
    "rf_model.fit(X_train_balanced, y_train_balanced)"
   ]
  },
  {
   "cell_type": "markdown",
   "id": "467d688a-e44b-496f-85a8-64bd9b6f818a",
   "metadata": {},
   "source": [
    "### PREDICTION"
   ]
  },
  {
   "cell_type": "code",
   "execution_count": null,
   "id": "29fcef6f-ffae-4573-aabf-260c946c4442",
   "metadata": {},
   "outputs": [],
   "source": [
    "y_pred_rf = rf_model.predict(X_test_scaled)"
   ]
  },
  {
   "cell_type": "code",
   "execution_count": null,
   "id": "821b9037-47e8-4c1a-b51f-099e26e34243",
   "metadata": {},
   "outputs": [],
   "source": [
    "y_pred_rf"
   ]
  },
  {
   "cell_type": "markdown",
   "id": "344b38a1-69f7-4b41-ba1d-7c85aab574db",
   "metadata": {},
   "source": [
    "### EVALUATION"
   ]
  },
  {
   "cell_type": "code",
   "execution_count": null,
   "id": "538c9305-8552-449b-8c1c-481c6999b7b8",
   "metadata": {},
   "outputs": [],
   "source": [
    "print(\"Accuracy:\", accuracy_score(y_test, y_pred_rf))\n",
    "print(\"Classification Report:\\n\", classification_report(y_test, y_pred_rf))"
   ]
  },
  {
   "cell_type": "markdown",
   "id": "26deaacf-29e9-4ecc-8345-fe76c2408c09",
   "metadata": {},
   "source": [
    "### XGBOOST CLASSIFIER"
   ]
  },
  {
   "cell_type": "code",
   "execution_count": null,
   "id": "36cc6183-651a-4885-8af5-bc842d0c0edf",
   "metadata": {},
   "outputs": [],
   "source": [
    "xgb_model = XGBClassifier(\n",
    "    n_estimators=300,\n",
    "    max_depth=5,\n",
    "    learning_rate=0.02,\n",
    "    scale_pos_weight=1.0,  \n",
    "    min_child_weight=20,  \n",
    "    gamma=5,  \n",
    "    subsample=0.8,\n",
    "    colsample_bytree=0.8,\n",
    "    eval_metric='aucpr',\n",
    "    random_state=42\n",
    ")"
   ]
  },
  {
   "cell_type": "code",
   "execution_count": null,
   "id": "4faa91da-3366-403e-9129-92f61431520f",
   "metadata": {},
   "outputs": [],
   "source": [
    "xgb_model"
   ]
  },
  {
   "cell_type": "markdown",
   "id": "8fd776f2-7541-41b5-bd15-f47c93a68003",
   "metadata": {},
   "source": [
    "### TRAIN THE MODEL"
   ]
  },
  {
   "cell_type": "code",
   "execution_count": null,
   "id": "59adafd0-1d22-4976-bd67-2f59843d21b1",
   "metadata": {},
   "outputs": [],
   "source": [
    "xgb_model.fit(X_train_balanced, y_train_balanced)"
   ]
  },
  {
   "cell_type": "markdown",
   "id": "6e1e37d1-0347-481f-93fa-ca837167f32d",
   "metadata": {},
   "source": [
    "### PREDICTION"
   ]
  },
  {
   "cell_type": "code",
   "execution_count": null,
   "id": "7c0358f4-61ac-4bdd-a9b5-8d8db0888060",
   "metadata": {},
   "outputs": [],
   "source": [
    "y_pred_xgb = xgb_model.predict(X_test_scaled)"
   ]
  },
  {
   "cell_type": "code",
   "execution_count": null,
   "id": "89781bf8-f430-4942-9ac0-139b3f3ddd82",
   "metadata": {},
   "outputs": [],
   "source": [
    "y_pred_xgb"
   ]
  },
  {
   "cell_type": "markdown",
   "id": "901c4976-d84f-49b8-b6a3-21359df67683",
   "metadata": {},
   "source": [
    "### EVALUATION"
   ]
  },
  {
   "cell_type": "code",
   "execution_count": null,
   "id": "5354eb7f-6043-4d34-80a7-dfbe40055489",
   "metadata": {},
   "outputs": [],
   "source": [
    "print(\"Accuracy:\", accuracy_score(y_test, y_pred_xgb))\n",
    "print(\"Classification Report:\\n\", classification_report(y_test, y_pred_xgb))"
   ]
  },
  {
   "cell_type": "code",
   "execution_count": null,
   "id": "6dde0ec7-d33e-467b-908f-4ff7a42cf51d",
   "metadata": {},
   "outputs": [],
   "source": []
  }
 ],
 "metadata": {
  "kernelspec": {
   "display_name": "Python 3 (ipykernel)",
   "language": "python",
   "name": "python3"
  },
  "language_info": {
   "codemirror_mode": {
    "name": "ipython",
    "version": 3
   },
   "file_extension": ".py",
   "mimetype": "text/x-python",
   "name": "python",
   "nbconvert_exporter": "python",
   "pygments_lexer": "ipython3",
   "version": "3.12.9"
  }
 },
 "nbformat": 4,
 "nbformat_minor": 5
}
